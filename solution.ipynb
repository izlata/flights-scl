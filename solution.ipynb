{
 "cells": [
  {
   "attachments": {},
   "cell_type": "markdown",
   "metadata": {},
   "source": [
    "# Challenge: Predicting the probability of flight delays at the airport of Santiago de Chile (SCL)\n",
    "\n",
    "The problem consists in predicting the probability of delay of the flights that land or take off from the airport of Santiago de Chile (SCL). For that you will have a dataset using public and real data where each row corresponds to a flight that landed or took off from SCL during 2017. The following information is available for each flight:\n",
    "\n",
    "- Fecha-I: Scheduled date and time of the flight.\n",
    "- Vlo-I: Scheduled flight number.\n",
    "- Ori-I: Programmed origin city code.\n",
    "- Des-I: Programmed destination city code.\n",
    "- Emp-I: Scheduled flight airline code.\n",
    "- Fecha-O: Date and time of flight operation.\n",
    "- Vlo-O: Flight operation number of the flight.\n",
    "- Ori-O: Operation origin city code\n",
    "- Des-O: Operation destination city code.\n",
    "- Emp-O: Airline code of the operated flight.\n",
    "- DIA: Day of the month of flight operation.\n",
    "- MES: Number of the month of operation of the flight.\n",
    "- AÑO: Year of flight operation.\n",
    "- DIANOM: Day of the week of flight operation.\n",
    "- TIPOVUELO: Type of flight, I =International, N =National.\n",
    "- OPERA: Name of the airline that operates.\n",
    "- SIGLAORI: Name city of origin.\n",
    "- SIGLADES: Destination city name."
   ]
  },
  {
   "attachments": {},
   "cell_type": "markdown",
   "metadata": {},
   "source": [
    "## 1. Task 1\n",
    "\n",
    "How is the data distributed? Did you find any noteworthy insight to share? What can you conclude about this?"
   ]
  },
  {
   "cell_type": "code",
   "execution_count": 1,
   "metadata": {},
   "outputs": [],
   "source": [
    "# Import libraries that will be used in the notebook\n",
    "\n",
    "import numpy as np\n",
    "import pandas as pd\n",
    "from datetime import datetime, date, time, timedelta\n",
    "\n",
    "from sklearn.model_selection import train_test_split\n",
    "from sklearn.preprocessing import StandardScaler, MinMaxScaler\n",
    "\n",
    "%matplotlib inline\n",
    "import matplotlib.pyplot as plt\n",
    "import seaborn as sns\n",
    "sns.set_theme()\n",
    "\n",
    "\n",
    "from sklearn.model_selection import train_test_split\n",
    "\n",
    "from sklearn.pipeline import Pipeline, FeatureUnion\n",
    "from sklearn.compose import ColumnTransformer\n",
    "from sklearn.preprocessing import OneHotEncoder\n",
    "\n",
    "from sklearn.feature_selection import SelectKBest\n",
    "from sklearn.decomposition import PCA\n",
    "\n",
    "from sklearn.linear_model import LogisticRegression\n",
    "from sklearn.model_selection import GridSearchCV\n",
    "from sklearn.ensemble import RandomForestClassifier\n",
    "\n",
    "from sklearn.metrics import confusion_matrix, ConfusionMatrixDisplay\n",
    "\n",
    "# Display HTML representation in a Jupyter context\n",
    "from sklearn import set_config\n",
    "set_config(display='diagram')"
   ]
  },
  {
   "cell_type": "code",
   "execution_count": 2,
   "metadata": {},
   "outputs": [],
   "source": [
    "import warnings\n",
    "warnings.filterwarnings('ignore')"
   ]
  },
  {
   "attachments": {},
   "cell_type": "markdown",
   "metadata": {},
   "source": [
    "### 1.1 Read the data into a pandas DataFrame"
   ]
  },
  {
   "cell_type": "code",
   "execution_count": 3,
   "metadata": {},
   "outputs": [
    {
     "data": {
      "text/html": [
       "<div>\n",
       "<style scoped>\n",
       "    .dataframe tbody tr th:only-of-type {\n",
       "        vertical-align: middle;\n",
       "    }\n",
       "\n",
       "    .dataframe tbody tr th {\n",
       "        vertical-align: top;\n",
       "    }\n",
       "\n",
       "    .dataframe thead th {\n",
       "        text-align: right;\n",
       "    }\n",
       "</style>\n",
       "<table border=\"1\" class=\"dataframe\">\n",
       "  <thead>\n",
       "    <tr style=\"text-align: right;\">\n",
       "      <th></th>\n",
       "      <th>Fecha-I</th>\n",
       "      <th>Vlo-I</th>\n",
       "      <th>Ori-I</th>\n",
       "      <th>Des-I</th>\n",
       "      <th>Emp-I</th>\n",
       "      <th>Fecha-O</th>\n",
       "      <th>Vlo-O</th>\n",
       "      <th>Ori-O</th>\n",
       "      <th>Des-O</th>\n",
       "      <th>Emp-O</th>\n",
       "      <th>DIA</th>\n",
       "      <th>MES</th>\n",
       "      <th>AÑO</th>\n",
       "      <th>DIANOM</th>\n",
       "      <th>TIPOVUELO</th>\n",
       "      <th>OPERA</th>\n",
       "      <th>SIGLAORI</th>\n",
       "      <th>SIGLADES</th>\n",
       "    </tr>\n",
       "  </thead>\n",
       "  <tbody>\n",
       "    <tr>\n",
       "      <th>0</th>\n",
       "      <td>2017-01-01 23:30:00</td>\n",
       "      <td>226</td>\n",
       "      <td>SCEL</td>\n",
       "      <td>KMIA</td>\n",
       "      <td>AAL</td>\n",
       "      <td>2017-01-01 23:33:00</td>\n",
       "      <td>226</td>\n",
       "      <td>SCEL</td>\n",
       "      <td>KMIA</td>\n",
       "      <td>AAL</td>\n",
       "      <td>1</td>\n",
       "      <td>1</td>\n",
       "      <td>2017</td>\n",
       "      <td>Domingo</td>\n",
       "      <td>I</td>\n",
       "      <td>American Airlines</td>\n",
       "      <td>Santiago</td>\n",
       "      <td>Miami</td>\n",
       "    </tr>\n",
       "    <tr>\n",
       "      <th>1</th>\n",
       "      <td>2017-01-02 23:30:00</td>\n",
       "      <td>226</td>\n",
       "      <td>SCEL</td>\n",
       "      <td>KMIA</td>\n",
       "      <td>AAL</td>\n",
       "      <td>2017-01-02 23:39:00</td>\n",
       "      <td>226</td>\n",
       "      <td>SCEL</td>\n",
       "      <td>KMIA</td>\n",
       "      <td>AAL</td>\n",
       "      <td>2</td>\n",
       "      <td>1</td>\n",
       "      <td>2017</td>\n",
       "      <td>Lunes</td>\n",
       "      <td>I</td>\n",
       "      <td>American Airlines</td>\n",
       "      <td>Santiago</td>\n",
       "      <td>Miami</td>\n",
       "    </tr>\n",
       "    <tr>\n",
       "      <th>2</th>\n",
       "      <td>2017-01-03 23:30:00</td>\n",
       "      <td>226</td>\n",
       "      <td>SCEL</td>\n",
       "      <td>KMIA</td>\n",
       "      <td>AAL</td>\n",
       "      <td>2017-01-03 23:39:00</td>\n",
       "      <td>226</td>\n",
       "      <td>SCEL</td>\n",
       "      <td>KMIA</td>\n",
       "      <td>AAL</td>\n",
       "      <td>3</td>\n",
       "      <td>1</td>\n",
       "      <td>2017</td>\n",
       "      <td>Martes</td>\n",
       "      <td>I</td>\n",
       "      <td>American Airlines</td>\n",
       "      <td>Santiago</td>\n",
       "      <td>Miami</td>\n",
       "    </tr>\n",
       "    <tr>\n",
       "      <th>3</th>\n",
       "      <td>2017-01-04 23:30:00</td>\n",
       "      <td>226</td>\n",
       "      <td>SCEL</td>\n",
       "      <td>KMIA</td>\n",
       "      <td>AAL</td>\n",
       "      <td>2017-01-04 23:33:00</td>\n",
       "      <td>226</td>\n",
       "      <td>SCEL</td>\n",
       "      <td>KMIA</td>\n",
       "      <td>AAL</td>\n",
       "      <td>4</td>\n",
       "      <td>1</td>\n",
       "      <td>2017</td>\n",
       "      <td>Miercoles</td>\n",
       "      <td>I</td>\n",
       "      <td>American Airlines</td>\n",
       "      <td>Santiago</td>\n",
       "      <td>Miami</td>\n",
       "    </tr>\n",
       "    <tr>\n",
       "      <th>4</th>\n",
       "      <td>2017-01-05 23:30:00</td>\n",
       "      <td>226</td>\n",
       "      <td>SCEL</td>\n",
       "      <td>KMIA</td>\n",
       "      <td>AAL</td>\n",
       "      <td>2017-01-05 23:28:00</td>\n",
       "      <td>226</td>\n",
       "      <td>SCEL</td>\n",
       "      <td>KMIA</td>\n",
       "      <td>AAL</td>\n",
       "      <td>5</td>\n",
       "      <td>1</td>\n",
       "      <td>2017</td>\n",
       "      <td>Jueves</td>\n",
       "      <td>I</td>\n",
       "      <td>American Airlines</td>\n",
       "      <td>Santiago</td>\n",
       "      <td>Miami</td>\n",
       "    </tr>\n",
       "  </tbody>\n",
       "</table>\n",
       "</div>"
      ],
      "text/plain": [
       "              Fecha-I Vlo-I Ori-I Des-I Emp-I             Fecha-O Vlo-O Ori-O  \\\n",
       "0 2017-01-01 23:30:00   226  SCEL  KMIA   AAL 2017-01-01 23:33:00   226  SCEL   \n",
       "1 2017-01-02 23:30:00   226  SCEL  KMIA   AAL 2017-01-02 23:39:00   226  SCEL   \n",
       "2 2017-01-03 23:30:00   226  SCEL  KMIA   AAL 2017-01-03 23:39:00   226  SCEL   \n",
       "3 2017-01-04 23:30:00   226  SCEL  KMIA   AAL 2017-01-04 23:33:00   226  SCEL   \n",
       "4 2017-01-05 23:30:00   226  SCEL  KMIA   AAL 2017-01-05 23:28:00   226  SCEL   \n",
       "\n",
       "  Des-O Emp-O  DIA  MES   AÑO     DIANOM TIPOVUELO              OPERA  \\\n",
       "0  KMIA   AAL    1    1  2017    Domingo         I  American Airlines   \n",
       "1  KMIA   AAL    2    1  2017      Lunes         I  American Airlines   \n",
       "2  KMIA   AAL    3    1  2017     Martes         I  American Airlines   \n",
       "3  KMIA   AAL    4    1  2017  Miercoles         I  American Airlines   \n",
       "4  KMIA   AAL    5    1  2017     Jueves         I  American Airlines   \n",
       "\n",
       "   SIGLAORI SIGLADES  \n",
       "0  Santiago    Miami  \n",
       "1  Santiago    Miami  \n",
       "2  Santiago    Miami  \n",
       "3  Santiago    Miami  \n",
       "4  Santiago    Miami  "
      ]
     },
     "execution_count": 3,
     "metadata": {},
     "output_type": "execute_result"
    }
   ],
   "source": [
    "flights = pd.read_csv('data/dataset_SCL.csv', \n",
    "                      header=0, \n",
    "                      dtype={'Vlo-I': str, 'Vlo-O': str},  # to handle mixed data types\n",
    "                      parse_dates=['Fecha-I', 'Fecha-O'],  # read as datetime\n",
    "                      infer_datetime_format=True)\n",
    "flights.head()"
   ]
  },
  {
   "attachments": {},
   "cell_type": "markdown",
   "metadata": {},
   "source": [
    "### 1.2 Main information about the `flights` DataFrame"
   ]
  },
  {
   "cell_type": "code",
   "execution_count": 4,
   "metadata": {},
   "outputs": [
    {
     "name": "stdout",
     "output_type": "stream",
     "text": [
      "<class 'pandas.core.frame.DataFrame'>\n",
      "RangeIndex: 68206 entries, 0 to 68205\n",
      "Data columns (total 18 columns):\n",
      " #   Column     Non-Null Count  Dtype         \n",
      "---  ------     --------------  -----         \n",
      " 0   Fecha-I    68206 non-null  datetime64[ns]\n",
      " 1   Vlo-I      68206 non-null  object        \n",
      " 2   Ori-I      68206 non-null  object        \n",
      " 3   Des-I      68206 non-null  object        \n",
      " 4   Emp-I      68206 non-null  object        \n",
      " 5   Fecha-O    68206 non-null  datetime64[ns]\n",
      " 6   Vlo-O      68205 non-null  object        \n",
      " 7   Ori-O      68206 non-null  object        \n",
      " 8   Des-O      68206 non-null  object        \n",
      " 9   Emp-O      68206 non-null  object        \n",
      " 10  DIA        68206 non-null  int64         \n",
      " 11  MES        68206 non-null  int64         \n",
      " 12  AÑO        68206 non-null  int64         \n",
      " 13  DIANOM     68206 non-null  object        \n",
      " 14  TIPOVUELO  68206 non-null  object        \n",
      " 15  OPERA      68206 non-null  object        \n",
      " 16  SIGLAORI   68206 non-null  object        \n",
      " 17  SIGLADES   68206 non-null  object        \n",
      "dtypes: datetime64[ns](2), int64(3), object(13)\n",
      "memory usage: 9.4+ MB\n"
     ]
    }
   ],
   "source": [
    "flights.info()"
   ]
  },
  {
   "attachments": {},
   "cell_type": "markdown",
   "metadata": {},
   "source": [
    "There are 68,206 rows and 18 columns. \n",
    "\n",
    "17 Columns do not have missing values. \n",
    "\n",
    "In the `Vlo-O` column (operation flight number), one value is missing. This row still can be used for analysis and modelling because only the scheduled information can be used for prediction, and the operation details are unknown at that point."
   ]
  },
  {
   "cell_type": "code",
   "execution_count": 5,
   "metadata": {},
   "outputs": [
    {
     "data": {
      "text/plain": [
       "False    68206\n",
       "dtype: int64"
      ]
     },
     "execution_count": 5,
     "metadata": {},
     "output_type": "execute_result"
    }
   ],
   "source": [
    "# Check the DataFrame for duplicate rows\n",
    "\n",
    "flights.duplicated().value_counts()"
   ]
  },
  {
   "attachments": {},
   "cell_type": "markdown",
   "metadata": {},
   "source": [
    "There are no duplicate rows in the `flights' DataFrame."
   ]
  },
  {
   "attachments": {},
   "cell_type": "markdown",
   "metadata": {},
   "source": [
    "### 1.3 Analysis of the DataFrame columns"
   ]
  },
  {
   "attachments": {},
   "cell_type": "markdown",
   "metadata": {},
   "source": [
    "#### 1.3.1 `Fecha-I` (scheduled date and time of the flight) and `Fecha-O` (date and time of flight operation)"
   ]
  },
  {
   "cell_type": "code",
   "execution_count": 6,
   "metadata": {},
   "outputs": [
    {
     "data": {
      "text/plain": [
       "count                   68206\n",
       "unique                  53252\n",
       "top       2017-07-28 13:30:00\n",
       "freq                        6\n",
       "first     2017-01-01 00:15:00\n",
       "last      2017-12-31 23:55:00\n",
       "Name: Fecha-I, dtype: object"
      ]
     },
     "execution_count": 6,
     "metadata": {},
     "output_type": "execute_result"
    }
   ],
   "source": [
    "# Summary statistics for scheduled datetimes\n",
    "\n",
    "flights['Fecha-I'].describe(datetime_is_numeric=False)"
   ]
  },
  {
   "cell_type": "code",
   "execution_count": 7,
   "metadata": {},
   "outputs": [
    {
     "data": {
      "text/plain": [
       "count                   68206\n",
       "unique                  62774\n",
       "top       2017-11-05 14:51:00\n",
       "freq                        5\n",
       "first     2017-01-01 00:04:00\n",
       "last      2018-01-01 00:12:00\n",
       "Name: Fecha-O, dtype: object"
      ]
     },
     "execution_count": 7,
     "metadata": {},
     "output_type": "execute_result"
    }
   ],
   "source": [
    "# Summary statistics for operation datetimes\n",
    "\n",
    "flights['Fecha-O'].describe(datetime_is_numeric=False)"
   ]
  },
  {
   "attachments": {},
   "cell_type": "markdown",
   "metadata": {},
   "source": [
    "Scheduled dates and times are for 2017 year only (the latest record is 2017-12-31 23:55:00).\n",
    "\n",
    "The latest record for the operation dates and times is 2018-01-01 00:12:00 (because of flight delay)."
   ]
  },
  {
   "cell_type": "code",
   "execution_count": 8,
   "metadata": {},
   "outputs": [
    {
     "data": {
      "text/plain": [
       "100.0"
      ]
     },
     "execution_count": 8,
     "metadata": {},
     "output_type": "execute_result"
    }
   ],
   "source": [
    "# Percentage of flights when operation time is later than scheduled\n",
    "\n",
    "len(flights['Fecha-O'] > flights['Fecha-I']) / len(flights) * 100"
   ]
  },
  {
   "attachments": {},
   "cell_type": "markdown",
   "metadata": {},
   "source": [
    "For all the records the operation time is later than the scheduled time. So, the difference ('Fecha-O' - 'Fecha-I') will be a positive number for all rows."
   ]
  },
  {
   "attachments": {},
   "cell_type": "markdown",
   "metadata": {},
   "source": [
    "#### 1.3.2 `Vlo-I` and `Vlo-O` (scheduled and operation flight numbers)"
   ]
  },
  {
   "cell_type": "code",
   "execution_count": 9,
   "metadata": {},
   "outputs": [
    {
     "data": {
      "text/plain": [
       "93.37448318329766"
      ]
     },
     "execution_count": 9,
     "metadata": {},
     "output_type": "execute_result"
    }
   ],
   "source": [
    "# Percentage of flights where the scheduled and operation\n",
    "# flight number is the same\n",
    "\n",
    "len(flights[flights['Vlo-I'] == flights['Vlo-O']]) / len(flights) * 100"
   ]
  },
  {
   "cell_type": "code",
   "execution_count": 10,
   "metadata": {},
   "outputs": [
    {
     "data": {
      "text/plain": [
       "174     686\n",
       "11      645\n",
       "116     608\n",
       "150     557\n",
       "704     556\n",
       "       ... \n",
       "1121      1\n",
       "1116      1\n",
       "1065      1\n",
       "1054      1\n",
       "1234      1\n",
       "Name: Vlo-I, Length: 584, dtype: int64"
      ]
     },
     "execution_count": 10,
     "metadata": {},
     "output_type": "execute_result"
    }
   ],
   "source": [
    "flights['Vlo-I'].value_counts()"
   ]
  },
  {
   "cell_type": "code",
   "execution_count": 11,
   "metadata": {},
   "outputs": [
    {
     "data": {
      "text/plain": [
       "174     649\n",
       "11      646\n",
       "116     608\n",
       "150     517\n",
       "704     514\n",
       "       ... \n",
       "2726      1\n",
       "9860      1\n",
       "9858      1\n",
       "1297      1\n",
       "1134      1\n",
       "Name: Vlo-O, Length: 861, dtype: int64"
      ]
     },
     "execution_count": 11,
     "metadata": {},
     "output_type": "execute_result"
    }
   ],
   "source": [
    "flights['Vlo-O'].value_counts()"
   ]
  },
  {
   "attachments": {},
   "cell_type": "markdown",
   "metadata": {},
   "source": [
    "About 93% of flights had the same scheduled and operation flight number.\n",
    "\n",
    "There are 584 unique scheduled flight numbers and 861 unique operation flight numbers. For some flight numbers, there are many records, and for some - just 1 row. Flight numbers have too many categories and probably not very suitable as a variable for prediction."
   ]
  },
  {
   "attachments": {},
   "cell_type": "markdown",
   "metadata": {},
   "source": [
    "#### 1.3.3 `Ori-I` and `Ori-O` (programmed and operation origin city codes)"
   ]
  },
  {
   "cell_type": "code",
   "execution_count": 12,
   "metadata": {},
   "outputs": [
    {
     "data": {
      "text/plain": [
       "SCEL    68206\n",
       "Name: Ori-I, dtype: int64"
      ]
     },
     "execution_count": 12,
     "metadata": {},
     "output_type": "execute_result"
    }
   ],
   "source": [
    "flights['Ori-I'].value_counts()"
   ]
  },
  {
   "cell_type": "code",
   "execution_count": 13,
   "metadata": {},
   "outputs": [
    {
     "data": {
      "text/plain": [
       "SCEL    68206\n",
       "Name: Ori-O, dtype: int64"
      ]
     },
     "execution_count": 13,
     "metadata": {},
     "output_type": "execute_result"
    }
   ],
   "source": [
    "flights['Ori-O'].value_counts()"
   ]
  },
  {
   "attachments": {},
   "cell_type": "markdown",
   "metadata": {},
   "source": [
    "All values in these columns - 'SCEL'. It means the departure airport for all flights in the dataset is Santiago de Chile Airport (IATA: SCL, ICAO: SCEL). So the prediction task means predicting the probability of departure delays for the flights from SCL."
   ]
  },
  {
   "attachments": {},
   "cell_type": "markdown",
   "metadata": {},
   "source": [
    "#### 1.3.4 `Des-I` and `Des-O` (programmed and operation destination city codes)"
   ]
  },
  {
   "cell_type": "code",
   "execution_count": 14,
   "metadata": {},
   "outputs": [
    {
     "data": {
      "text/plain": [
       "count      64.000000\n",
       "mean     1065.718750\n",
       "std      1496.220237\n",
       "min         1.000000\n",
       "25%        50.000000\n",
       "50%       346.000000\n",
       "75%      1609.250000\n",
       "max      5787.000000\n",
       "Name: Des-I, dtype: float64"
      ]
     },
     "execution_count": 14,
     "metadata": {},
     "output_type": "execute_result"
    }
   ],
   "source": [
    "# Number of records per programmed destination - summary\n",
    "\n",
    "flights['Des-I'].value_counts().describe()"
   ]
  },
  {
   "cell_type": "code",
   "execution_count": 15,
   "metadata": {},
   "outputs": [
    {
     "data": {
      "image/png": "[encoded data removed]",
      "text/plain": [
       "<Figure size 432x288 with 1 Axes>"
      ]
     },
     "metadata": {},
     "output_type": "display_data"
    }
   ],
   "source": [
    "g = sns.histplot(flights['Des-I'].value_counts(), bins=60, kde=True)\n",
    "g.set_title('Distribution of number of flights per destination');"
   ]
  },
  {
   "cell_type": "code",
   "execution_count": 16,
   "metadata": {},
   "outputs": [
    {
     "data": {
      "text/plain": [
       "SCFA    5787\n",
       "SPJC    5270\n",
       "SCCF    5145\n",
       "SCTE    4357\n",
       "SCIE    3995\n",
       "SCDA    3747\n",
       "SBGR    3570\n",
       "SAEZ    3240\n",
       "SABE    3094\n",
       "SCQP    2583\n",
       "Name: Des-I, dtype: int64"
      ]
     },
     "execution_count": 16,
     "metadata": {},
     "output_type": "execute_result"
    }
   ],
   "source": [
    "# 10 Destination airports with largest number of flights\n",
    "\n",
    "flights['Des-I'].value_counts()[:10]"
   ]
  },
  {
   "cell_type": "code",
   "execution_count": 17,
   "metadata": {},
   "outputs": [
    {
     "data": {
      "text/plain": [
       "99.95894789314723"
      ]
     },
     "execution_count": 17,
     "metadata": {},
     "output_type": "execute_result"
    }
   ],
   "source": [
    "# Percentage of flights where the scheduled and operation\n",
    "# destination airport is the same\n",
    "\n",
    "len(flights[flights['Des-I'] == flights['Des-O']]) / len(flights) * 100"
   ]
  },
  {
   "attachments": {},
   "cell_type": "markdown",
   "metadata": {},
   "source": [
    "There 64 airports in the `Des-I` column. The number of records per destination varies from 1 to 5787. Half of the destinations have <= 346 records. \n",
    "\n",
    "Airports with the largest numbers of records are located in Chile, Peru, Brazil and Argentina. \n",
    "\n",
    "For almost all flights the programmed and operation destination airport is the same."
   ]
  },
  {
   "attachments": {},
   "cell_type": "markdown",
   "metadata": {},
   "source": [
    "#### 1.3.5 `Emp-I` and `Emp-O` (scheduled and operation airline codes)"
   ]
  },
  {
   "cell_type": "code",
   "execution_count": 18,
   "metadata": {},
   "outputs": [
    {
     "data": {
      "text/plain": [
       "count       30.000000\n",
       "mean      2273.533333\n",
       "std       7163.120100\n",
       "min          1.000000\n",
       "25%        123.750000\n",
       "50%        343.000000\n",
       "75%       1022.750000\n",
       "max      37611.000000\n",
       "Name: Emp-I, dtype: float64"
      ]
     },
     "execution_count": 18,
     "metadata": {},
     "output_type": "execute_result"
    }
   ],
   "source": [
    "# Number of records per scheduled airline - summary\n",
    "\n",
    "flights['Emp-I'].value_counts().describe()"
   ]
  },
  {
   "cell_type": "code",
   "execution_count": 19,
   "metadata": {},
   "outputs": [
    {
     "data": {
      "image/png": "[encoded data removed]",
      "text/plain": [
       "<Figure size 432x288 with 1 Axes>"
      ]
     },
     "metadata": {},
     "output_type": "display_data"
    }
   ],
   "source": [
    "g = sns.histplot(flights['Emp-I'].value_counts(), bins=80, kde=True)\n",
    "g.set_title('Distribution of number of flights per airline');"
   ]
  },
  {
   "cell_type": "code",
   "execution_count": 20,
   "metadata": {},
   "outputs": [
    {
     "data": {
      "text/plain": [
       "LAN    37611\n",
       "SKU    14298\n",
       "TAM     3049\n",
       "ARG     1949\n",
       "CMP     1850\n",
       "Name: Emp-I, dtype: int64"
      ]
     },
     "execution_count": 20,
     "metadata": {},
     "output_type": "execute_result"
    }
   ],
   "source": [
    "# Top 5 airlines with largest number of records\n",
    "\n",
    "flights['Emp-I'].value_counts()[:5]\n",
    "\n",
    "# LAN - Grupo LATAM:\n",
    "# LATAM Airlines Chile (formerly LAN Airlines and LAN-Chile) is an airline based in Santiago, Chile, \n",
    "# one of the founders of LATAM Airlines Group\n",
    "\n",
    "# SKU - Sky Airline\n",
    "\n",
    "# TAM - Grupo LATAM: \n",
    "# (LATAM Airlines Brasil, formerly TAM Linhas Aéreas, is the Brazilian brand of LATAM Airlines Group)\n",
    "\n",
    "# ARG - Aerolineas Argentinas\n",
    "\n",
    "# CMP - Copa Air"
   ]
  },
  {
   "cell_type": "code",
   "execution_count": 21,
   "metadata": {},
   "outputs": [
    {
     "data": {
      "text/plain": [
       "LAN    55.143243\n",
       "SKU    20.962965\n",
       "TAM     4.470281\n",
       "ARG     2.857520\n",
       "CMP     2.712371\n",
       "Name: Emp-I, dtype: float64"
      ]
     },
     "execution_count": 21,
     "metadata": {},
     "output_type": "execute_result"
    }
   ],
   "source": [
    "# Percentage of all records - top 5 airlines\n",
    "\n",
    "flights['Emp-I'].value_counts()[:5] / len(flights) * 100"
   ]
  },
  {
   "cell_type": "code",
   "execution_count": 22,
   "metadata": {},
   "outputs": [
    {
     "data": {
      "text/plain": [
       "72.6285077559159"
      ]
     },
     "execution_count": 22,
     "metadata": {},
     "output_type": "execute_result"
    }
   ],
   "source": [
    "# Percentage of flights where the scheduled and operation\n",
    "# airline is the same\n",
    "\n",
    "len(flights[flights['Emp-I'] == flights['Emp-O']]) / len(flights) * 100"
   ]
  },
  {
   "attachments": {},
   "cell_type": "markdown",
   "metadata": {},
   "source": [
    "There 30 airlines in the `Emp-I` column. The number of records per airline varies from 1 to 37611. Half of the airlines has <= 343 records. For two airlines the number of records is much larger than for other airlines. Flights by LAN comprise 55% of all records; the next airline is SKU (21% of all records).\n",
    "\n",
    "For about 73% of flights the scheduled and operation airline code was the same."
   ]
  },
  {
   "attachments": {},
   "cell_type": "markdown",
   "metadata": {},
   "source": [
    "#### 1.3.6 `DIA`, `MES` and `AÑO` (day of the month, number of the month and year of flight operation) "
   ]
  },
  {
   "attachments": {},
   "cell_type": "markdown",
   "metadata": {},
   "source": [
    "**Day of the month**"
   ]
  },
  {
   "cell_type": "code",
   "execution_count": 23,
   "metadata": {},
   "outputs": [
    {
     "data": {
      "image/png": "[encoded data removed]",
      "text/plain": [
       "<Figure size 720x288 with 1 Axes>"
      ]
     },
     "metadata": {},
     "output_type": "display_data"
    }
   ],
   "source": [
    "# Bar chart\n",
    "# Sorted from higher number of records per day of month to lower\n",
    "\n",
    "flights['DIA'].value_counts().plot(\n",
    "    kind='bar', figsize=(10, 4), rot=0, \n",
    "    title='Number of records per day of month');"
   ]
  },
  {
   "attachments": {},
   "cell_type": "markdown",
   "metadata": {},
   "source": [
    "There are fewer records for the 31st day of month because it is present not in each month. For all other months, the number of records is very close."
   ]
  },
  {
   "attachments": {},
   "cell_type": "markdown",
   "metadata": {},
   "source": [
    "**Month**"
   ]
  },
  {
   "cell_type": "code",
   "execution_count": 24,
   "metadata": {},
   "outputs": [
    {
     "data": {
      "text/plain": [
       "12    6356\n",
       "1     6108\n",
       "11    6080\n",
       "10    6032\n",
       "7     5992\n",
       "8     5744\n",
       "9     5610\n",
       "2     5561\n",
       "3     5482\n",
       "5     5240\n",
       "4     5020\n",
       "6     4981\n",
       "Name: MES, dtype: int64"
      ]
     },
     "execution_count": 24,
     "metadata": {},
     "output_type": "execute_result"
    }
   ],
   "source": [
    "flights['MES'].value_counts()"
   ]
  },
  {
   "cell_type": "code",
   "execution_count": 25,
   "metadata": {},
   "outputs": [
    {
     "data": {
      "image/png": "[encoded data removed]",
      "text/plain": [
       "<Figure size 720x288 with 1 Axes>"
      ]
     },
     "metadata": {},
     "output_type": "display_data"
    }
   ],
   "source": [
    "flights['MES'].value_counts().plot(\n",
    "    kind='bar', figsize=(10, 4), rot=0, \n",
    "    title='Number of records per month');"
   ]
  },
  {
   "attachments": {},
   "cell_type": "markdown",
   "metadata": {},
   "source": [
    "All months are represented well. There are less flights in April, May, June than in other months."
   ]
  },
  {
   "attachments": {},
   "cell_type": "markdown",
   "metadata": {},
   "source": [
    "**Year**"
   ]
  },
  {
   "cell_type": "code",
   "execution_count": 26,
   "metadata": {},
   "outputs": [
    {
     "data": {
      "text/plain": [
       "2017    68204\n",
       "2018        2\n",
       "Name: AÑO, dtype: int64"
      ]
     },
     "execution_count": 26,
     "metadata": {},
     "output_type": "execute_result"
    }
   ],
   "source": [
    "# Number of records per year\n",
    "\n",
    "flights['AÑO'].value_counts()"
   ]
  },
  {
   "cell_type": "code",
   "execution_count": 27,
   "metadata": {},
   "outputs": [
    {
     "data": {
      "text/html": [
       "<div>\n",
       "<style scoped>\n",
       "    .dataframe tbody tr th:only-of-type {\n",
       "        vertical-align: middle;\n",
       "    }\n",
       "\n",
       "    .dataframe tbody tr th {\n",
       "        vertical-align: top;\n",
       "    }\n",
       "\n",
       "    .dataframe thead th {\n",
       "        text-align: right;\n",
       "    }\n",
       "</style>\n",
       "<table border=\"1\" class=\"dataframe\">\n",
       "  <thead>\n",
       "    <tr style=\"text-align: right;\">\n",
       "      <th></th>\n",
       "      <th>Fecha-I</th>\n",
       "      <th>Vlo-I</th>\n",
       "      <th>Ori-I</th>\n",
       "      <th>Des-I</th>\n",
       "      <th>Emp-I</th>\n",
       "      <th>Fecha-O</th>\n",
       "      <th>Vlo-O</th>\n",
       "      <th>Ori-O</th>\n",
       "      <th>Des-O</th>\n",
       "      <th>Emp-O</th>\n",
       "      <th>DIA</th>\n",
       "      <th>MES</th>\n",
       "      <th>AÑO</th>\n",
       "      <th>DIANOM</th>\n",
       "      <th>TIPOVUELO</th>\n",
       "      <th>OPERA</th>\n",
       "      <th>SIGLAORI</th>\n",
       "      <th>SIGLADES</th>\n",
       "    </tr>\n",
       "  </thead>\n",
       "  <tbody>\n",
       "    <tr>\n",
       "      <th>66918</th>\n",
       "      <td>2017-12-31 23:55:00</td>\n",
       "      <td>602</td>\n",
       "      <td>SCEL</td>\n",
       "      <td>KLAX</td>\n",
       "      <td>LAN</td>\n",
       "      <td>2018-01-01 00:02:00</td>\n",
       "      <td>602.0</td>\n",
       "      <td>SCEL</td>\n",
       "      <td>KLAX</td>\n",
       "      <td>LAN</td>\n",
       "      <td>1</td>\n",
       "      <td>1</td>\n",
       "      <td>2018</td>\n",
       "      <td>Lunes</td>\n",
       "      <td>I</td>\n",
       "      <td>Grupo LATAM</td>\n",
       "      <td>Santiago</td>\n",
       "      <td>Los Angeles</td>\n",
       "    </tr>\n",
       "    <tr>\n",
       "      <th>66947</th>\n",
       "      <td>2017-12-31 23:40:00</td>\n",
       "      <td>622</td>\n",
       "      <td>SCEL</td>\n",
       "      <td>MMMX</td>\n",
       "      <td>LAN</td>\n",
       "      <td>2018-01-01 00:12:00</td>\n",
       "      <td>622.0</td>\n",
       "      <td>SCEL</td>\n",
       "      <td>MMMX</td>\n",
       "      <td>LAN</td>\n",
       "      <td>1</td>\n",
       "      <td>1</td>\n",
       "      <td>2018</td>\n",
       "      <td>Lunes</td>\n",
       "      <td>I</td>\n",
       "      <td>Grupo LATAM</td>\n",
       "      <td>Santiago</td>\n",
       "      <td>Ciudad de Mexico</td>\n",
       "    </tr>\n",
       "  </tbody>\n",
       "</table>\n",
       "</div>"
      ],
      "text/plain": [
       "                  Fecha-I Vlo-I Ori-I Des-I Emp-I             Fecha-O  Vlo-O  \\\n",
       "66918 2017-12-31 23:55:00   602  SCEL  KLAX   LAN 2018-01-01 00:02:00  602.0   \n",
       "66947 2017-12-31 23:40:00   622  SCEL  MMMX   LAN 2018-01-01 00:12:00  622.0   \n",
       "\n",
       "      Ori-O Des-O Emp-O  DIA  MES   AÑO DIANOM TIPOVUELO        OPERA  \\\n",
       "66918  SCEL  KLAX   LAN    1    1  2018  Lunes         I  Grupo LATAM   \n",
       "66947  SCEL  MMMX   LAN    1    1  2018  Lunes         I  Grupo LATAM   \n",
       "\n",
       "       SIGLAORI          SIGLADES  \n",
       "66918  Santiago       Los Angeles  \n",
       "66947  Santiago  Ciudad de Mexico  "
      ]
     },
     "execution_count": 27,
     "metadata": {},
     "output_type": "execute_result"
    }
   ],
   "source": [
    "# Flights with operation date in 2018\n",
    "\n",
    "flights[flights['AÑO'] == 2018]"
   ]
  },
  {
   "attachments": {},
   "cell_type": "markdown",
   "metadata": {},
   "source": [
    "Almost all records are for 2017. Only 2 flights have departure date in 2018 (2018-01-01), they were scheduled for 2017-12-31."
   ]
  },
  {
   "attachments": {},
   "cell_type": "markdown",
   "metadata": {},
   "source": [
    "**Day of week**"
   ]
  },
  {
   "cell_type": "code",
   "execution_count": 28,
   "metadata": {},
   "outputs": [
    {
     "data": {
      "text/plain": [
       "Viernes      10292\n",
       "Jueves       10251\n",
       "Lunes        10131\n",
       "Domingo       9796\n",
       "Miercoles     9722\n",
       "Martes        9662\n",
       "Sabado        8352\n",
       "Name: DIANOM, dtype: int64"
      ]
     },
     "execution_count": 28,
     "metadata": {},
     "output_type": "execute_result"
    }
   ],
   "source": [
    "flights['DIANOM'].value_counts()"
   ]
  },
  {
   "attachments": {},
   "cell_type": "markdown",
   "metadata": {},
   "source": [
    "For days of the week the data is distributed quite evenly. On Saturdays, there were little fewer flights than on other days.\n",
    "\n",
    "The columns `DIA`, `MES`, `AÑO` and `DIANOM` have the operation information, not the scheduled details. There are 2 flights that were scheduled for 2017-12-31 and actually departed on 2018-01-01, so the value in `AÑO` is 2018.\n",
    "\n",
    "In order to use the month and day of the week as variables for delay prediction, the new corresponding columns should be created from the scheduled datetime."
   ]
  },
  {
   "attachments": {},
   "cell_type": "markdown",
   "metadata": {},
   "source": [
    "#### 1.3.7 `TIPOVUELO`: Type of flight \n",
    "\n",
    "I = International, N = National"
   ]
  },
  {
   "cell_type": "code",
   "execution_count": 29,
   "metadata": {},
   "outputs": [
    {
     "data": {
      "text/plain": [
       "N    36966\n",
       "I    31240\n",
       "Name: TIPOVUELO, dtype: int64"
      ]
     },
     "execution_count": 29,
     "metadata": {},
     "output_type": "execute_result"
    }
   ],
   "source": [
    "# Number of flights per type of flight\n",
    "\n",
    "flights['TIPOVUELO'].value_counts()"
   ]
  },
  {
   "cell_type": "code",
   "execution_count": 30,
   "metadata": {},
   "outputs": [
    {
     "data": {
      "text/plain": [
       "N    54.197578\n",
       "I    45.802422\n",
       "Name: TIPOVUELO, dtype: float64"
      ]
     },
     "execution_count": 30,
     "metadata": {},
     "output_type": "execute_result"
    }
   ],
   "source": [
    "# Percentage\n",
    "\n",
    "flights['TIPOVUELO'].value_counts() / len(flights) * 100"
   ]
  },
  {
   "attachments": {},
   "cell_type": "markdown",
   "metadata": {},
   "source": [
    "Dataset includes more national flights than international flights but the difference is not large.\n",
    "\n",
    "**Note:**\n",
    "\n",
    "I did not explore the following columns as they have info closely related to other columns about the airline, origin and destination:\n",
    "- OPERA : Name of the airline that operates.\n",
    "- SIGLAORI: Name city of origin.\n",
    "- SIGLADES: Destination city name."
   ]
  },
  {
   "attachments": {},
   "cell_type": "markdown",
   "metadata": {},
   "source": [
    "## 2. Task 2\n",
    "\n",
    "Generate the following additional columns. Please export them to a CSV file named synthetic_features.csv:\n",
    "- `high_season`: 1 if Date-I is between Dec-15 and Mar-3, or Jul-15 and Jul-31, or Sep-11 and Sep-30, 0 otherwise.\n",
    "- `min_diff`: difference in minutes between Date-O and Date-I.\n",
    "- `delay_15`: 1 if min_diff > 15, 0 if not.\n",
    "- `period_day`: morning (between 5:00 and 11:59), afternoon (between 12:00 and 18:59) and night (between 19:00 and 4:59), based on Date-I."
   ]
  },
  {
   "cell_type": "code",
   "execution_count": 31,
   "metadata": {},
   "outputs": [],
   "source": [
    "# Import functions needed for feature generation \n",
    "# from the preprocessing module\n",
    "\n",
    "from modules.preprocessing import is_high_season, get_period_day"
   ]
  },
  {
   "cell_type": "code",
   "execution_count": 32,
   "metadata": {},
   "outputs": [],
   "source": [
    "# Create a copy of the flights DataFrame\n",
    "\n",
    "flights2 = flights.copy()"
   ]
  },
  {
   "cell_type": "code",
   "execution_count": 33,
   "metadata": {},
   "outputs": [],
   "source": [
    "# Create new columns according to the task 2\n",
    "\n",
    "flights2['high_season'] = flights2['Fecha-I'].map(is_high_season)\n",
    "flights2['min_diff'] = (flights2['Fecha-O'] - flights2['Fecha-I']).dt.seconds / 60\n",
    "flights2['delay_15'] = flights2['min_diff'].map(lambda x: 1 if x > 15 else 0)\n",
    "flights2['period_day'] = flights2['Fecha-I'].map(get_period_day)"
   ]
  },
  {
   "cell_type": "code",
   "execution_count": 34,
   "metadata": {},
   "outputs": [
    {
     "data": {
      "text/html": [
       "<div>\n",
       "<style scoped>\n",
       "    .dataframe tbody tr th:only-of-type {\n",
       "        vertical-align: middle;\n",
       "    }\n",
       "\n",
       "    .dataframe tbody tr th {\n",
       "        vertical-align: top;\n",
       "    }\n",
       "\n",
       "    .dataframe thead th {\n",
       "        text-align: right;\n",
       "    }\n",
       "</style>\n",
       "<table border=\"1\" class=\"dataframe\">\n",
       "  <thead>\n",
       "    <tr style=\"text-align: right;\">\n",
       "      <th></th>\n",
       "      <th>Fecha-I</th>\n",
       "      <th>Vlo-I</th>\n",
       "      <th>Ori-I</th>\n",
       "      <th>Des-I</th>\n",
       "      <th>Emp-I</th>\n",
       "      <th>Fecha-O</th>\n",
       "      <th>Vlo-O</th>\n",
       "      <th>Ori-O</th>\n",
       "      <th>Des-O</th>\n",
       "      <th>Emp-O</th>\n",
       "      <th>...</th>\n",
       "      <th>AÑO</th>\n",
       "      <th>DIANOM</th>\n",
       "      <th>TIPOVUELO</th>\n",
       "      <th>OPERA</th>\n",
       "      <th>SIGLAORI</th>\n",
       "      <th>SIGLADES</th>\n",
       "      <th>high_season</th>\n",
       "      <th>min_diff</th>\n",
       "      <th>delay_15</th>\n",
       "      <th>period_day</th>\n",
       "    </tr>\n",
       "  </thead>\n",
       "  <tbody>\n",
       "    <tr>\n",
       "      <th>0</th>\n",
       "      <td>2017-01-01 23:30:00</td>\n",
       "      <td>226</td>\n",
       "      <td>SCEL</td>\n",
       "      <td>KMIA</td>\n",
       "      <td>AAL</td>\n",
       "      <td>2017-01-01 23:33:00</td>\n",
       "      <td>226</td>\n",
       "      <td>SCEL</td>\n",
       "      <td>KMIA</td>\n",
       "      <td>AAL</td>\n",
       "      <td>...</td>\n",
       "      <td>2017</td>\n",
       "      <td>Domingo</td>\n",
       "      <td>I</td>\n",
       "      <td>American Airlines</td>\n",
       "      <td>Santiago</td>\n",
       "      <td>Miami</td>\n",
       "      <td>1</td>\n",
       "      <td>3.0</td>\n",
       "      <td>0</td>\n",
       "      <td>night</td>\n",
       "    </tr>\n",
       "    <tr>\n",
       "      <th>1</th>\n",
       "      <td>2017-01-02 23:30:00</td>\n",
       "      <td>226</td>\n",
       "      <td>SCEL</td>\n",
       "      <td>KMIA</td>\n",
       "      <td>AAL</td>\n",
       "      <td>2017-01-02 23:39:00</td>\n",
       "      <td>226</td>\n",
       "      <td>SCEL</td>\n",
       "      <td>KMIA</td>\n",
       "      <td>AAL</td>\n",
       "      <td>...</td>\n",
       "      <td>2017</td>\n",
       "      <td>Lunes</td>\n",
       "      <td>I</td>\n",
       "      <td>American Airlines</td>\n",
       "      <td>Santiago</td>\n",
       "      <td>Miami</td>\n",
       "      <td>1</td>\n",
       "      <td>9.0</td>\n",
       "      <td>0</td>\n",
       "      <td>night</td>\n",
       "    </tr>\n",
       "    <tr>\n",
       "      <th>2</th>\n",
       "      <td>2017-01-03 23:30:00</td>\n",
       "      <td>226</td>\n",
       "      <td>SCEL</td>\n",
       "      <td>KMIA</td>\n",
       "      <td>AAL</td>\n",
       "      <td>2017-01-03 23:39:00</td>\n",
       "      <td>226</td>\n",
       "      <td>SCEL</td>\n",
       "      <td>KMIA</td>\n",
       "      <td>AAL</td>\n",
       "      <td>...</td>\n",
       "      <td>2017</td>\n",
       "      <td>Martes</td>\n",
       "      <td>I</td>\n",
       "      <td>American Airlines</td>\n",
       "      <td>Santiago</td>\n",
       "      <td>Miami</td>\n",
       "      <td>1</td>\n",
       "      <td>9.0</td>\n",
       "      <td>0</td>\n",
       "      <td>night</td>\n",
       "    </tr>\n",
       "  </tbody>\n",
       "</table>\n",
       "<p>3 rows × 22 columns</p>\n",
       "</div>"
      ],
      "text/plain": [
       "              Fecha-I Vlo-I Ori-I Des-I Emp-I             Fecha-O Vlo-O Ori-O  \\\n",
       "0 2017-01-01 23:30:00   226  SCEL  KMIA   AAL 2017-01-01 23:33:00   226  SCEL   \n",
       "1 2017-01-02 23:30:00   226  SCEL  KMIA   AAL 2017-01-02 23:39:00   226  SCEL   \n",
       "2 2017-01-03 23:30:00   226  SCEL  KMIA   AAL 2017-01-03 23:39:00   226  SCEL   \n",
       "\n",
       "  Des-O Emp-O  ...   AÑO   DIANOM  TIPOVUELO              OPERA  SIGLAORI  \\\n",
       "0  KMIA   AAL  ...  2017  Domingo          I  American Airlines  Santiago   \n",
       "1  KMIA   AAL  ...  2017    Lunes          I  American Airlines  Santiago   \n",
       "2  KMIA   AAL  ...  2017   Martes          I  American Airlines  Santiago   \n",
       "\n",
       "  SIGLADES high_season min_diff  delay_15  period_day  \n",
       "0    Miami           1      3.0         0       night  \n",
       "1    Miami           1      9.0         0       night  \n",
       "2    Miami           1      9.0         0       night  \n",
       "\n",
       "[3 rows x 22 columns]"
      ]
     },
     "execution_count": 34,
     "metadata": {},
     "output_type": "execute_result"
    }
   ],
   "source": [
    "flights2.head(3)"
   ]
  },
  {
   "cell_type": "code",
   "execution_count": 35,
   "metadata": {},
   "outputs": [
    {
     "data": {
      "text/html": [
       "<div>\n",
       "<style scoped>\n",
       "    .dataframe tbody tr th:only-of-type {\n",
       "        vertical-align: middle;\n",
       "    }\n",
       "\n",
       "    .dataframe tbody tr th {\n",
       "        vertical-align: top;\n",
       "    }\n",
       "\n",
       "    .dataframe thead th {\n",
       "        text-align: right;\n",
       "    }\n",
       "</style>\n",
       "<table border=\"1\" class=\"dataframe\">\n",
       "  <thead>\n",
       "    <tr style=\"text-align: right;\">\n",
       "      <th></th>\n",
       "      <th>Fecha-I</th>\n",
       "      <th>Vlo-I</th>\n",
       "      <th>Ori-I</th>\n",
       "      <th>Des-I</th>\n",
       "      <th>Emp-I</th>\n",
       "      <th>Fecha-O</th>\n",
       "      <th>Vlo-O</th>\n",
       "      <th>Ori-O</th>\n",
       "      <th>Des-O</th>\n",
       "      <th>Emp-O</th>\n",
       "      <th>...</th>\n",
       "      <th>AÑO</th>\n",
       "      <th>DIANOM</th>\n",
       "      <th>TIPOVUELO</th>\n",
       "      <th>OPERA</th>\n",
       "      <th>SIGLAORI</th>\n",
       "      <th>SIGLADES</th>\n",
       "      <th>high_season</th>\n",
       "      <th>min_diff</th>\n",
       "      <th>delay_15</th>\n",
       "      <th>period_day</th>\n",
       "    </tr>\n",
       "  </thead>\n",
       "  <tbody>\n",
       "    <tr>\n",
       "      <th>68203</th>\n",
       "      <td>2017-12-27 14:55:00</td>\n",
       "      <td>400</td>\n",
       "      <td>SCEL</td>\n",
       "      <td>SPJC</td>\n",
       "      <td>JAT</td>\n",
       "      <td>2017-12-27 15:35:00</td>\n",
       "      <td>400.0</td>\n",
       "      <td>SCEL</td>\n",
       "      <td>SPJC</td>\n",
       "      <td>JAT</td>\n",
       "      <td>...</td>\n",
       "      <td>2017</td>\n",
       "      <td>Miercoles</td>\n",
       "      <td>I</td>\n",
       "      <td>JetSmart SPA</td>\n",
       "      <td>Santiago</td>\n",
       "      <td>Lima</td>\n",
       "      <td>1</td>\n",
       "      <td>40.0</td>\n",
       "      <td>1</td>\n",
       "      <td>afternoon</td>\n",
       "    </tr>\n",
       "    <tr>\n",
       "      <th>68204</th>\n",
       "      <td>2017-12-29 14:55:00</td>\n",
       "      <td>400</td>\n",
       "      <td>SCEL</td>\n",
       "      <td>SPJC</td>\n",
       "      <td>JAT</td>\n",
       "      <td>2017-12-29 15:08:00</td>\n",
       "      <td>400.0</td>\n",
       "      <td>SCEL</td>\n",
       "      <td>SPJC</td>\n",
       "      <td>JAT</td>\n",
       "      <td>...</td>\n",
       "      <td>2017</td>\n",
       "      <td>Viernes</td>\n",
       "      <td>I</td>\n",
       "      <td>JetSmart SPA</td>\n",
       "      <td>Santiago</td>\n",
       "      <td>Lima</td>\n",
       "      <td>1</td>\n",
       "      <td>13.0</td>\n",
       "      <td>0</td>\n",
       "      <td>afternoon</td>\n",
       "    </tr>\n",
       "    <tr>\n",
       "      <th>68205</th>\n",
       "      <td>2017-12-31 14:55:00</td>\n",
       "      <td>400</td>\n",
       "      <td>SCEL</td>\n",
       "      <td>SPJC</td>\n",
       "      <td>JAT</td>\n",
       "      <td>2017-12-31 15:04:00</td>\n",
       "      <td>400.0</td>\n",
       "      <td>SCEL</td>\n",
       "      <td>SPJC</td>\n",
       "      <td>JAT</td>\n",
       "      <td>...</td>\n",
       "      <td>2017</td>\n",
       "      <td>Domingo</td>\n",
       "      <td>I</td>\n",
       "      <td>JetSmart SPA</td>\n",
       "      <td>Santiago</td>\n",
       "      <td>Lima</td>\n",
       "      <td>1</td>\n",
       "      <td>9.0</td>\n",
       "      <td>0</td>\n",
       "      <td>afternoon</td>\n",
       "    </tr>\n",
       "  </tbody>\n",
       "</table>\n",
       "<p>3 rows × 22 columns</p>\n",
       "</div>"
      ],
      "text/plain": [
       "                  Fecha-I Vlo-I Ori-I Des-I Emp-I             Fecha-O  Vlo-O  \\\n",
       "68203 2017-12-27 14:55:00   400  SCEL  SPJC   JAT 2017-12-27 15:35:00  400.0   \n",
       "68204 2017-12-29 14:55:00   400  SCEL  SPJC   JAT 2017-12-29 15:08:00  400.0   \n",
       "68205 2017-12-31 14:55:00   400  SCEL  SPJC   JAT 2017-12-31 15:04:00  400.0   \n",
       "\n",
       "      Ori-O Des-O Emp-O  ...   AÑO     DIANOM  TIPOVUELO         OPERA  \\\n",
       "68203  SCEL  SPJC   JAT  ...  2017  Miercoles          I  JetSmart SPA   \n",
       "68204  SCEL  SPJC   JAT  ...  2017    Viernes          I  JetSmart SPA   \n",
       "68205  SCEL  SPJC   JAT  ...  2017    Domingo          I  JetSmart SPA   \n",
       "\n",
       "       SIGLAORI SIGLADES high_season min_diff  delay_15  period_day  \n",
       "68203  Santiago     Lima           1     40.0         1   afternoon  \n",
       "68204  Santiago     Lima           1     13.0         0   afternoon  \n",
       "68205  Santiago     Lima           1      9.0         0   afternoon  \n",
       "\n",
       "[3 rows x 22 columns]"
      ]
     },
     "execution_count": 35,
     "metadata": {},
     "output_type": "execute_result"
    }
   ],
   "source": [
    "flights2.tail(3)"
   ]
  },
  {
   "cell_type": "code",
   "execution_count": 36,
   "metadata": {},
   "outputs": [],
   "source": [
    "# Save 4 new columns to a separate csv file\n",
    "\n",
    "flights2.to_csv('data/synthetic_features.csv', \n",
    "                columns=['high_season', 'min_diff', 'delay_15', 'period_day'], \n",
    "                header=True, index=False)"
   ]
  },
  {
   "attachments": {},
   "cell_type": "markdown",
   "metadata": {},
   "source": [
    "## 3. Task 3\n",
    "\n",
    "What is the behavior of the delay rate across destination, airline, month of the year, day of the week, season, type of flight? What variables would you expect to have the most influence in predicting delays?"
   ]
  },
  {
   "attachments": {},
   "cell_type": "markdown",
   "metadata": {},
   "source": [
    "### 3.1 Summary statistics for `min_diff` (flight delay in minutes)"
   ]
  },
  {
   "cell_type": "code",
   "execution_count": 37,
   "metadata": {},
   "outputs": [
    {
     "data": {
      "text/plain": [
       "count    68206.000000\n",
       "mean       387.235947\n",
       "std        626.191717\n",
       "min          0.000000\n",
       "25%          4.000000\n",
       "50%         12.000000\n",
       "75%       1430.000000\n",
       "max       1439.000000\n",
       "Name: min_diff, dtype: float64"
      ]
     },
     "execution_count": 37,
     "metadata": {},
     "output_type": "execute_result"
    }
   ],
   "source": [
    "flights2['min_diff'].describe()"
   ]
  },
  {
   "cell_type": "code",
   "execution_count": 38,
   "metadata": {},
   "outputs": [
    {
     "data": {
      "image/png": "[encoded data removed]",
      "text/plain": [
       "<Figure size 720x432 with 1 Axes>"
      ]
     },
     "metadata": {},
     "output_type": "display_data"
    }
   ],
   "source": [
    "# Histogram\n",
    "\n",
    "flights2['min_diff'].plot(kind='hist', bins=100, \n",
    "                          title='Distribution of flight delays', \n",
    "                          figsize=(10, 6));"
   ]
  },
  {
   "attachments": {},
   "cell_type": "markdown",
   "metadata": {},
   "source": [
    "### 3.2 Target variable `delay_15`\n",
    "\n",
    "Check the ratio of classes (0: delay < 15 min, 1: delay >= 15 min)"
   ]
  },
  {
   "cell_type": "code",
   "execution_count": 39,
   "metadata": {},
   "outputs": [
    {
     "data": {
      "text/plain": [
       "0    55.247339\n",
       "1    44.752661\n",
       "Name: delay_15, dtype: float64"
      ]
     },
     "execution_count": 39,
     "metadata": {},
     "output_type": "execute_result"
    }
   ],
   "source": [
    "# Percentage of classes 0 and 1\n",
    "\n",
    "flights2['delay_15'].value_counts() / len(flights2) * 100"
   ]
  },
  {
   "attachments": {},
   "cell_type": "markdown",
   "metadata": {},
   "source": [
    "Both classes are represented well. This ratio can be kept during the train-test split of data."
   ]
  },
  {
   "attachments": {},
   "cell_type": "markdown",
   "metadata": {},
   "source": [
    "### 3.3 Delays by destination"
   ]
  },
  {
   "cell_type": "code",
   "execution_count": 40,
   "metadata": {},
   "outputs": [
    {
     "data": {
      "text/html": [
       "<div>\n",
       "<style scoped>\n",
       "    .dataframe tbody tr th:only-of-type {\n",
       "        vertical-align: middle;\n",
       "    }\n",
       "\n",
       "    .dataframe tbody tr th {\n",
       "        vertical-align: top;\n",
       "    }\n",
       "\n",
       "    .dataframe thead tr th {\n",
       "        text-align: left;\n",
       "    }\n",
       "\n",
       "    .dataframe thead tr:last-of-type th {\n",
       "        text-align: right;\n",
       "    }\n",
       "</style>\n",
       "<table border=\"1\" class=\"dataframe\">\n",
       "  <thead>\n",
       "    <tr>\n",
       "      <th></th>\n",
       "      <th colspan=\"2\" halign=\"left\">min_diff</th>\n",
       "    </tr>\n",
       "    <tr>\n",
       "      <th></th>\n",
       "      <th>count</th>\n",
       "      <th>mean</th>\n",
       "    </tr>\n",
       "    <tr>\n",
       "      <th>Des-I</th>\n",
       "      <th></th>\n",
       "      <th></th>\n",
       "    </tr>\n",
       "  </thead>\n",
       "  <tbody>\n",
       "    <tr>\n",
       "      <th>SARI</th>\n",
       "      <td>1</td>\n",
       "      <td>1438.000000</td>\n",
       "    </tr>\n",
       "    <tr>\n",
       "      <th>KIAH</th>\n",
       "      <td>335</td>\n",
       "      <td>1077.068657</td>\n",
       "    </tr>\n",
       "    <tr>\n",
       "      <th>KDFW</th>\n",
       "      <td>357</td>\n",
       "      <td>1035.557423</td>\n",
       "    </tr>\n",
       "    <tr>\n",
       "      <th>SBCT</th>\n",
       "      <td>3</td>\n",
       "      <td>957.333333</td>\n",
       "    </tr>\n",
       "    <tr>\n",
       "      <th>KATL</th>\n",
       "      <td>358</td>\n",
       "      <td>872.963687</td>\n",
       "    </tr>\n",
       "    <tr>\n",
       "      <th>...</th>\n",
       "      <td>...</td>\n",
       "      <td>...</td>\n",
       "    </tr>\n",
       "    <tr>\n",
       "      <th>SAWH</th>\n",
       "      <td>6</td>\n",
       "      <td>24.500000</td>\n",
       "    </tr>\n",
       "    <tr>\n",
       "      <th>SEQM</th>\n",
       "      <td>1</td>\n",
       "      <td>24.000000</td>\n",
       "    </tr>\n",
       "    <tr>\n",
       "      <th>SAZS</th>\n",
       "      <td>2</td>\n",
       "      <td>18.500000</td>\n",
       "    </tr>\n",
       "    <tr>\n",
       "      <th>SBFI</th>\n",
       "      <td>1</td>\n",
       "      <td>5.000000</td>\n",
       "    </tr>\n",
       "    <tr>\n",
       "      <th>SPSO</th>\n",
       "      <td>1</td>\n",
       "      <td>2.000000</td>\n",
       "    </tr>\n",
       "  </tbody>\n",
       "</table>\n",
       "<p>64 rows × 2 columns</p>\n",
       "</div>"
      ],
      "text/plain": [
       "      min_diff             \n",
       "         count         mean\n",
       "Des-I                      \n",
       "SARI         1  1438.000000\n",
       "KIAH       335  1077.068657\n",
       "KDFW       357  1035.557423\n",
       "SBCT         3   957.333333\n",
       "KATL       358   872.963687\n",
       "...        ...          ...\n",
       "SAWH         6    24.500000\n",
       "SEQM         1    24.000000\n",
       "SAZS         2    18.500000\n",
       "SBFI         1     5.000000\n",
       "SPSO         1     2.000000\n",
       "\n",
       "[64 rows x 2 columns]"
      ]
     },
     "execution_count": 40,
     "metadata": {},
     "output_type": "execute_result"
    }
   ],
   "source": [
    "# Group by destination and calculate the number of flights \n",
    "# and the mean delay in minutes, then sort my mean delay\n",
    "\n",
    "delays_by_dest = flights2[['Des-I', 'min_diff']].groupby('Des-I').agg(['count', 'mean'])\n",
    "delays_by_dest.sort_values(('min_diff', 'mean'), ascending=False)"
   ]
  },
  {
   "cell_type": "code",
   "execution_count": 41,
   "metadata": {},
   "outputs": [
    {
     "data": {
      "text/plain": [
       "count      64.000000\n",
       "mean      357.778576\n",
       "std       277.174010\n",
       "min         2.000000\n",
       "25%       194.419929\n",
       "50%       326.691342\n",
       "75%       427.880602\n",
       "max      1438.000000\n",
       "Name: (min_diff, mean), dtype: float64"
      ]
     },
     "execution_count": 41,
     "metadata": {},
     "output_type": "execute_result"
    }
   ],
   "source": [
    "# Statistics for average delays by destination \n",
    "\n",
    "delays_by_dest[('min_diff', 'mean')].describe()"
   ]
  },
  {
   "attachments": {},
   "cell_type": "markdown",
   "metadata": {},
   "source": [
    "The average delay in minutes varies in a wide range for different destination airports. However, for some airports there are not many data points."
   ]
  },
  {
   "attachments": {},
   "cell_type": "markdown",
   "metadata": {},
   "source": [
    "### 3.4 Delays by airline"
   ]
  },
  {
   "cell_type": "code",
   "execution_count": 42,
   "metadata": {},
   "outputs": [
    {
     "data": {
      "text/html": [
       "<div>\n",
       "<style scoped>\n",
       "    .dataframe tbody tr th:only-of-type {\n",
       "        vertical-align: middle;\n",
       "    }\n",
       "\n",
       "    .dataframe tbody tr th {\n",
       "        vertical-align: top;\n",
       "    }\n",
       "\n",
       "    .dataframe thead tr th {\n",
       "        text-align: left;\n",
       "    }\n",
       "\n",
       "    .dataframe thead tr:last-of-type th {\n",
       "        text-align: right;\n",
       "    }\n",
       "</style>\n",
       "<table border=\"1\" class=\"dataframe\">\n",
       "  <thead>\n",
       "    <tr>\n",
       "      <th></th>\n",
       "      <th colspan=\"2\" halign=\"left\">min_diff</th>\n",
       "    </tr>\n",
       "    <tr>\n",
       "      <th></th>\n",
       "      <th>count</th>\n",
       "      <th>mean</th>\n",
       "    </tr>\n",
       "    <tr>\n",
       "      <th>Emp-I</th>\n",
       "      <th></th>\n",
       "      <th></th>\n",
       "    </tr>\n",
       "  </thead>\n",
       "  <tbody>\n",
       "    <tr>\n",
       "      <th>UAL</th>\n",
       "      <td>335</td>\n",
       "      <td>1077.068657</td>\n",
       "    </tr>\n",
       "    <tr>\n",
       "      <th>AMX</th>\n",
       "      <td>351</td>\n",
       "      <td>1027.247863</td>\n",
       "    </tr>\n",
       "    <tr>\n",
       "      <th>AAL</th>\n",
       "      <td>757</td>\n",
       "      <td>930.475561</td>\n",
       "    </tr>\n",
       "    <tr>\n",
       "      <th>KLM</th>\n",
       "      <td>251</td>\n",
       "      <td>873.342629</td>\n",
       "    </tr>\n",
       "    <tr>\n",
       "      <th>DAL</th>\n",
       "      <td>358</td>\n",
       "      <td>872.963687</td>\n",
       "    </tr>\n",
       "    <tr>\n",
       "      <th>CMP</th>\n",
       "      <td>1850</td>\n",
       "      <td>811.284324</td>\n",
       "    </tr>\n",
       "    <tr>\n",
       "      <th>AFR</th>\n",
       "      <td>358</td>\n",
       "      <td>773.689944</td>\n",
       "    </tr>\n",
       "    <tr>\n",
       "      <th>LRC</th>\n",
       "      <td>92</td>\n",
       "      <td>630.967391</td>\n",
       "    </tr>\n",
       "    <tr>\n",
       "      <th>ONE</th>\n",
       "      <td>279</td>\n",
       "      <td>615.372760</td>\n",
       "    </tr>\n",
       "    <tr>\n",
       "      <th>GLO</th>\n",
       "      <td>806</td>\n",
       "      <td>572.904467</td>\n",
       "    </tr>\n",
       "    <tr>\n",
       "      <th>ARG</th>\n",
       "      <td>1949</td>\n",
       "      <td>535.320164</td>\n",
       "    </tr>\n",
       "    <tr>\n",
       "      <th>AVA</th>\n",
       "      <td>1152</td>\n",
       "      <td>534.881944</td>\n",
       "    </tr>\n",
       "    <tr>\n",
       "      <th>AZA</th>\n",
       "      <td>259</td>\n",
       "      <td>533.478764</td>\n",
       "    </tr>\n",
       "    <tr>\n",
       "      <th>IBE</th>\n",
       "      <td>362</td>\n",
       "      <td>509.469613</td>\n",
       "    </tr>\n",
       "    <tr>\n",
       "      <th>JAT</th>\n",
       "      <td>1095</td>\n",
       "      <td>490.072146</td>\n",
       "    </tr>\n",
       "    <tr>\n",
       "      <th>SKU</th>\n",
       "      <td>14298</td>\n",
       "      <td>489.426423</td>\n",
       "    </tr>\n",
       "    <tr>\n",
       "      <th>AUT</th>\n",
       "      <td>74</td>\n",
       "      <td>473.635135</td>\n",
       "    </tr>\n",
       "    <tr>\n",
       "      <th>BAW</th>\n",
       "      <td>205</td>\n",
       "      <td>422.000000</td>\n",
       "    </tr>\n",
       "    <tr>\n",
       "      <th>LAW</th>\n",
       "      <td>1574</td>\n",
       "      <td>308.157560</td>\n",
       "    </tr>\n",
       "    <tr>\n",
       "      <th>LAN</th>\n",
       "      <td>37611</td>\n",
       "      <td>287.851373</td>\n",
       "    </tr>\n",
       "    <tr>\n",
       "      <th>ACA</th>\n",
       "      <td>565</td>\n",
       "      <td>285.423009</td>\n",
       "    </tr>\n",
       "    <tr>\n",
       "      <th>JMR</th>\n",
       "      <td>100</td>\n",
       "      <td>255.240000</td>\n",
       "    </tr>\n",
       "    <tr>\n",
       "      <th>TAM</th>\n",
       "      <td>3049</td>\n",
       "      <td>251.368973</td>\n",
       "    </tr>\n",
       "    <tr>\n",
       "      <th>LAP</th>\n",
       "      <td>216</td>\n",
       "      <td>239.092593</td>\n",
       "    </tr>\n",
       "    <tr>\n",
       "      <th>PUE</th>\n",
       "      <td>49</td>\n",
       "      <td>178.653061</td>\n",
       "    </tr>\n",
       "    <tr>\n",
       "      <th>QFU</th>\n",
       "      <td>195</td>\n",
       "      <td>108.066667</td>\n",
       "    </tr>\n",
       "    <tr>\n",
       "      <th>DSM</th>\n",
       "      <td>2</td>\n",
       "      <td>73.000000</td>\n",
       "    </tr>\n",
       "    <tr>\n",
       "      <th>LXP</th>\n",
       "      <td>9</td>\n",
       "      <td>52.555556</td>\n",
       "    </tr>\n",
       "    <tr>\n",
       "      <th>LPE</th>\n",
       "      <td>4</td>\n",
       "      <td>26.000000</td>\n",
       "    </tr>\n",
       "    <tr>\n",
       "      <th>LNE</th>\n",
       "      <td>1</td>\n",
       "      <td>24.000000</td>\n",
       "    </tr>\n",
       "  </tbody>\n",
       "</table>\n",
       "</div>"
      ],
      "text/plain": [
       "      min_diff             \n",
       "         count         mean\n",
       "Emp-I                      \n",
       "UAL        335  1077.068657\n",
       "AMX        351  1027.247863\n",
       "AAL        757   930.475561\n",
       "KLM        251   873.342629\n",
       "DAL        358   872.963687\n",
       "CMP       1850   811.284324\n",
       "AFR        358   773.689944\n",
       "LRC         92   630.967391\n",
       "ONE        279   615.372760\n",
       "GLO        806   572.904467\n",
       "ARG       1949   535.320164\n",
       "AVA       1152   534.881944\n",
       "AZA        259   533.478764\n",
       "IBE        362   509.469613\n",
       "JAT       1095   490.072146\n",
       "SKU      14298   489.426423\n",
       "AUT         74   473.635135\n",
       "BAW        205   422.000000\n",
       "LAW       1574   308.157560\n",
       "LAN      37611   287.851373\n",
       "ACA        565   285.423009\n",
       "JMR        100   255.240000\n",
       "TAM       3049   251.368973\n",
       "LAP        216   239.092593\n",
       "PUE         49   178.653061\n",
       "QFU        195   108.066667\n",
       "DSM          2    73.000000\n",
       "LXP          9    52.555556\n",
       "LPE          4    26.000000\n",
       "LNE          1    24.000000"
      ]
     },
     "execution_count": 42,
     "metadata": {},
     "output_type": "execute_result"
    }
   ],
   "source": [
    "# Group by airline and calculate the number of flights \n",
    "# and the mean delay in minutes, then sort my mean delay\n",
    "\n",
    "delays_by_airline = flights2[['Emp-I', 'min_diff']].groupby('Emp-I').agg(['count', 'mean'])\n",
    "\n",
    "delays_by_airline_sorted = delays_by_airline.sort_values(('min_diff', 'mean'), \n",
    "                                                         ascending=False)\n",
    "delays_by_airline_sorted"
   ]
  },
  {
   "attachments": {},
   "cell_type": "markdown",
   "metadata": {},
   "source": [
    "For some airlines with lowest average delays in minutes, only a few records are available. The average delay in minutes varies in a wide range for different airlines.\n",
    "\n",
    "Statistics and visualization:"
   ]
  },
  {
   "cell_type": "code",
   "execution_count": 43,
   "metadata": {},
   "outputs": [
    {
     "data": {
      "text/plain": [
       "count      30.000000\n",
       "mean      475.433676\n",
       "std       304.180668\n",
       "min        24.000000\n",
       "25%       252.336730\n",
       "50%       489.749285\n",
       "75%       627.068733\n",
       "max      1077.068657\n",
       "Name: (min_diff, mean), dtype: float64"
      ]
     },
     "execution_count": 43,
     "metadata": {},
     "output_type": "execute_result"
    }
   ],
   "source": [
    "delays_by_airline[('min_diff', 'mean')].describe()"
   ]
  },
  {
   "cell_type": "code",
   "execution_count": 44,
   "metadata": {},
   "outputs": [
    {
     "data": {
      "image/png": "[encoded data removed]",
      "text/plain": [
       "<Figure size 720x720 with 1 Axes>"
      ]
     },
     "metadata": {},
     "output_type": "display_data"
    }
   ],
   "source": [
    "delays_by_airline_sorted[('min_diff', 'mean')].plot(\n",
    "    kind='barh', figsize=(10, 10), \n",
    "    title='Average flight delay per airline');"
   ]
  },
  {
   "attachments": {},
   "cell_type": "markdown",
   "metadata": {},
   "source": [
    "### 3.5 Delays by month"
   ]
  },
  {
   "cell_type": "code",
   "execution_count": 45,
   "metadata": {},
   "outputs": [
    {
     "data": {
      "image/png": "[encoded data removed]",
      "text/plain": [
       "<Figure size 720x288 with 1 Axes>"
      ]
     },
     "metadata": {},
     "output_type": "display_data"
    }
   ],
   "source": [
    "delays_by_month = flights2[['MES', 'min_diff']].groupby('MES').agg(['count', 'mean'])\n",
    "\n",
    "delays_by_month[('min_diff', 'mean')].plot(\n",
    "    kind='bar', figsize=(10, 4), rot=0, \n",
    "    title='Average flight delay (in minutes) by month');"
   ]
  },
  {
   "attachments": {},
   "cell_type": "markdown",
   "metadata": {},
   "source": [
    "Some differences are observed between average delays for different months."
   ]
  },
  {
   "attachments": {},
   "cell_type": "markdown",
   "metadata": {},
   "source": [
    "### 3.6 Delays by day of the week"
   ]
  },
  {
   "cell_type": "code",
   "execution_count": 46,
   "metadata": {},
   "outputs": [
    {
     "data": {
      "text/html": [
       "<div>\n",
       "<style scoped>\n",
       "    .dataframe tbody tr th:only-of-type {\n",
       "        vertical-align: middle;\n",
       "    }\n",
       "\n",
       "    .dataframe tbody tr th {\n",
       "        vertical-align: top;\n",
       "    }\n",
       "\n",
       "    .dataframe thead tr th {\n",
       "        text-align: left;\n",
       "    }\n",
       "\n",
       "    .dataframe thead tr:last-of-type th {\n",
       "        text-align: right;\n",
       "    }\n",
       "</style>\n",
       "<table border=\"1\" class=\"dataframe\">\n",
       "  <thead>\n",
       "    <tr>\n",
       "      <th></th>\n",
       "      <th colspan=\"2\" halign=\"left\">min_diff</th>\n",
       "    </tr>\n",
       "    <tr>\n",
       "      <th></th>\n",
       "      <th>count</th>\n",
       "      <th>mean</th>\n",
       "    </tr>\n",
       "    <tr>\n",
       "      <th>DIANOM</th>\n",
       "      <th></th>\n",
       "      <th></th>\n",
       "    </tr>\n",
       "  </thead>\n",
       "  <tbody>\n",
       "    <tr>\n",
       "      <th>Domingo</th>\n",
       "      <td>9796</td>\n",
       "      <td>421.732340</td>\n",
       "    </tr>\n",
       "    <tr>\n",
       "      <th>Jueves</th>\n",
       "      <td>10251</td>\n",
       "      <td>367.168179</td>\n",
       "    </tr>\n",
       "    <tr>\n",
       "      <th>Lunes</th>\n",
       "      <td>10131</td>\n",
       "      <td>375.133156</td>\n",
       "    </tr>\n",
       "    <tr>\n",
       "      <th>Martes</th>\n",
       "      <td>9662</td>\n",
       "      <td>410.874974</td>\n",
       "    </tr>\n",
       "    <tr>\n",
       "      <th>Miercoles</th>\n",
       "      <td>9722</td>\n",
       "      <td>394.683604</td>\n",
       "    </tr>\n",
       "    <tr>\n",
       "      <th>Sabado</th>\n",
       "      <td>8352</td>\n",
       "      <td>424.004670</td>\n",
       "    </tr>\n",
       "    <tr>\n",
       "      <th>Viernes</th>\n",
       "      <td>10292</td>\n",
       "      <td>327.238146</td>\n",
       "    </tr>\n",
       "  </tbody>\n",
       "</table>\n",
       "</div>"
      ],
      "text/plain": [
       "          min_diff            \n",
       "             count        mean\n",
       "DIANOM                        \n",
       "Domingo       9796  421.732340\n",
       "Jueves       10251  367.168179\n",
       "Lunes        10131  375.133156\n",
       "Martes        9662  410.874974\n",
       "Miercoles     9722  394.683604\n",
       "Sabado        8352  424.004670\n",
       "Viernes      10292  327.238146"
      ]
     },
     "execution_count": 46,
     "metadata": {},
     "output_type": "execute_result"
    }
   ],
   "source": [
    "delays_by_weekday = flights2[['DIANOM', 'min_diff']].groupby('DIANOM').agg(['count', 'mean'])\n",
    "delays_by_weekday"
   ]
  },
  {
   "cell_type": "code",
   "execution_count": 47,
   "metadata": {},
   "outputs": [
    {
     "data": {
      "image/png": "[encoded data removed]",
      "text/plain": [
       "<Figure size 576x288 with 1 Axes>"
      ]
     },
     "metadata": {},
     "output_type": "display_data"
    }
   ],
   "source": [
    "delays_by_weekday[('min_diff', 'mean')].plot(\n",
    "    kind='bar', figsize=(8, 4), rot=0, \n",
    "    title='Average flight delay (in minutes) by the day of the week');"
   ]
  },
  {
   "attachments": {},
   "cell_type": "markdown",
   "metadata": {},
   "source": [
    "There is some difference between the days of the week. For Friday, the average delay is lower than for other days."
   ]
  },
  {
   "attachments": {},
   "cell_type": "markdown",
   "metadata": {},
   "source": [
    "### 3.7 Delays by season"
   ]
  },
  {
   "cell_type": "code",
   "execution_count": 48,
   "metadata": {},
   "outputs": [
    {
     "data": {
      "text/html": [
       "<div>\n",
       "<style scoped>\n",
       "    .dataframe tbody tr th:only-of-type {\n",
       "        vertical-align: middle;\n",
       "    }\n",
       "\n",
       "    .dataframe tbody tr th {\n",
       "        vertical-align: top;\n",
       "    }\n",
       "\n",
       "    .dataframe thead tr th {\n",
       "        text-align: left;\n",
       "    }\n",
       "\n",
       "    .dataframe thead tr:last-of-type th {\n",
       "        text-align: right;\n",
       "    }\n",
       "</style>\n",
       "<table border=\"1\" class=\"dataframe\">\n",
       "  <thead>\n",
       "    <tr>\n",
       "      <th></th>\n",
       "      <th colspan=\"2\" halign=\"left\">min_diff</th>\n",
       "    </tr>\n",
       "    <tr>\n",
       "      <th></th>\n",
       "      <th>count</th>\n",
       "      <th>mean</th>\n",
       "    </tr>\n",
       "    <tr>\n",
       "      <th>high_season</th>\n",
       "      <th></th>\n",
       "      <th></th>\n",
       "    </tr>\n",
       "  </thead>\n",
       "  <tbody>\n",
       "    <tr>\n",
       "      <th>0</th>\n",
       "      <td>45444</td>\n",
       "      <td>394.396884</td>\n",
       "    </tr>\n",
       "    <tr>\n",
       "      <th>1</th>\n",
       "      <td>22762</td>\n",
       "      <td>372.939241</td>\n",
       "    </tr>\n",
       "  </tbody>\n",
       "</table>\n",
       "</div>"
      ],
      "text/plain": [
       "            min_diff            \n",
       "               count        mean\n",
       "high_season                     \n",
       "0              45444  394.396884\n",
       "1              22762  372.939241"
      ]
     },
     "execution_count": 48,
     "metadata": {},
     "output_type": "execute_result"
    }
   ],
   "source": [
    "# Group by season and calculate the number of flights \n",
    "# and the mean delay in minutes\n",
    "\n",
    "delays_by_season = flights2[['high_season', 'min_diff']].groupby('high_season').agg(['count', 'mean'])\n",
    "delays_by_season"
   ]
  },
  {
   "cell_type": "code",
   "execution_count": 49,
   "metadata": {},
   "outputs": [
    {
     "data": {
      "text/plain": [
       "count    45444.000000\n",
       "mean       394.396884\n",
       "std        630.216250\n",
       "min          0.000000\n",
       "25%          4.000000\n",
       "50%         12.000000\n",
       "75%       1431.000000\n",
       "max       1439.000000\n",
       "Name: min_diff, dtype: float64"
      ]
     },
     "execution_count": 49,
     "metadata": {},
     "output_type": "execute_result"
    }
   ],
   "source": [
    "# Not a high season\n",
    "\n",
    "flights2.loc[flights2['high_season'] == 0, 'min_diff'].describe()"
   ]
  },
  {
   "cell_type": "code",
   "execution_count": 50,
   "metadata": {},
   "outputs": [
    {
     "data": {
      "text/plain": [
       "count    22762.000000\n",
       "mean       372.939241\n",
       "std        617.843949\n",
       "min          0.000000\n",
       "25%          4.000000\n",
       "50%         13.000000\n",
       "75%       1427.000000\n",
       "max       1439.000000\n",
       "Name: min_diff, dtype: float64"
      ]
     },
     "execution_count": 50,
     "metadata": {},
     "output_type": "execute_result"
    }
   ],
   "source": [
    "# High season\n",
    "\n",
    "flights2.loc[flights2['high_season'] == 1, 'min_diff'].describe()"
   ]
  },
  {
   "attachments": {},
   "cell_type": "markdown",
   "metadata": {},
   "source": [
    "There are twice more records for the regular season than for high season. The summary statistics for average delays for both seasons is quite similar."
   ]
  },
  {
   "attachments": {},
   "cell_type": "markdown",
   "metadata": {},
   "source": [
    "### 3.8 Delays by type of flight"
   ]
  },
  {
   "cell_type": "code",
   "execution_count": 51,
   "metadata": {},
   "outputs": [
    {
     "data": {
      "text/html": [
       "<div>\n",
       "<style scoped>\n",
       "    .dataframe tbody tr th:only-of-type {\n",
       "        vertical-align: middle;\n",
       "    }\n",
       "\n",
       "    .dataframe tbody tr th {\n",
       "        vertical-align: top;\n",
       "    }\n",
       "\n",
       "    .dataframe thead tr th {\n",
       "        text-align: left;\n",
       "    }\n",
       "\n",
       "    .dataframe thead tr:last-of-type th {\n",
       "        text-align: right;\n",
       "    }\n",
       "</style>\n",
       "<table border=\"1\" class=\"dataframe\">\n",
       "  <thead>\n",
       "    <tr>\n",
       "      <th></th>\n",
       "      <th colspan=\"2\" halign=\"left\">min_diff</th>\n",
       "    </tr>\n",
       "    <tr>\n",
       "      <th></th>\n",
       "      <th>count</th>\n",
       "      <th>mean</th>\n",
       "    </tr>\n",
       "    <tr>\n",
       "      <th>TIPOVUELO</th>\n",
       "      <th></th>\n",
       "      <th></th>\n",
       "    </tr>\n",
       "  </thead>\n",
       "  <tbody>\n",
       "    <tr>\n",
       "      <th>I</th>\n",
       "      <td>31240</td>\n",
       "      <td>394.562068</td>\n",
       "    </tr>\n",
       "    <tr>\n",
       "      <th>N</th>\n",
       "      <td>36966</td>\n",
       "      <td>381.044636</td>\n",
       "    </tr>\n",
       "  </tbody>\n",
       "</table>\n",
       "</div>"
      ],
      "text/plain": [
       "          min_diff            \n",
       "             count        mean\n",
       "TIPOVUELO                     \n",
       "I            31240  394.562068\n",
       "N            36966  381.044636"
      ]
     },
     "execution_count": 51,
     "metadata": {},
     "output_type": "execute_result"
    }
   ],
   "source": [
    "# Group by flight type and calculate the number of flights \n",
    "# and the mean delay in minutes\n",
    "\n",
    "delays_by_flight_type = flights2[['TIPOVUELO', 'min_diff']].groupby(\n",
    "    'TIPOVUELO').agg(['count', 'mean'])\n",
    "delays_by_flight_type"
   ]
  },
  {
   "attachments": {},
   "cell_type": "markdown",
   "metadata": {},
   "source": [
    "Average delay values for both flight types are very close."
   ]
  },
  {
   "cell_type": "code",
   "execution_count": 52,
   "metadata": {},
   "outputs": [
    {
     "data": {
      "image/png": "[encoded data removed]",
      "text/plain": [
       "<Figure size 1008x720 with 1 Axes>"
      ]
     },
     "metadata": {},
     "output_type": "display_data"
    }
   ],
   "source": [
    "# The bars are the average values of delay in minutes\n",
    "# Black lines represent the 95% confidence interval\n",
    "\n",
    "plt.figure(figsize=(14, 10))\n",
    "g = sns.barplot(data=flights2, x='min_diff', y='Emp-I', \n",
    "                hue='TIPOVUELO', orient='h')\n",
    "g.set_title(\"Average flight delays by airline and type of flight\");"
   ]
  },
  {
   "cell_type": "code",
   "execution_count": 53,
   "metadata": {},
   "outputs": [
    {
     "data": {
      "text/html": [
       "<div>\n",
       "<style scoped>\n",
       "    .dataframe tbody tr th:only-of-type {\n",
       "        vertical-align: middle;\n",
       "    }\n",
       "\n",
       "    .dataframe tbody tr th {\n",
       "        vertical-align: top;\n",
       "    }\n",
       "\n",
       "    .dataframe thead th {\n",
       "        text-align: right;\n",
       "    }\n",
       "</style>\n",
       "<table border=\"1\" class=\"dataframe\">\n",
       "  <thead>\n",
       "    <tr style=\"text-align: right;\">\n",
       "      <th></th>\n",
       "      <th>delay_15</th>\n",
       "    </tr>\n",
       "    <tr>\n",
       "      <th>TIPOVUELO</th>\n",
       "      <th></th>\n",
       "    </tr>\n",
       "  </thead>\n",
       "  <tbody>\n",
       "    <tr>\n",
       "      <th>I</th>\n",
       "      <td>0.492222</td>\n",
       "    </tr>\n",
       "    <tr>\n",
       "      <th>N</th>\n",
       "      <td>0.409755</td>\n",
       "    </tr>\n",
       "  </tbody>\n",
       "</table>\n",
       "</div>"
      ],
      "text/plain": [
       "           delay_15\n",
       "TIPOVUELO          \n",
       "I          0.492222\n",
       "N          0.409755"
      ]
     },
     "execution_count": 53,
     "metadata": {},
     "output_type": "execute_result"
    }
   ],
   "source": [
    "# Percentage of delays over 15 min by flight type\n",
    "\n",
    "flights2[['TIPOVUELO', 'delay_15']].groupby('TIPOVUELO').mean()"
   ]
  },
  {
   "attachments": {},
   "cell_type": "markdown",
   "metadata": {},
   "source": [
    "Most airlines operate international flights. For those airlines that operate both types: the average delay is higher for national flights of the airline than for its international flights."
   ]
  },
  {
   "attachments": {},
   "cell_type": "markdown",
   "metadata": {},
   "source": [
    "### 3.9 Delays by period of day"
   ]
  },
  {
   "cell_type": "code",
   "execution_count": 54,
   "metadata": {},
   "outputs": [
    {
     "data": {
      "text/html": [
       "<div>\n",
       "<style scoped>\n",
       "    .dataframe tbody tr th:only-of-type {\n",
       "        vertical-align: middle;\n",
       "    }\n",
       "\n",
       "    .dataframe tbody tr th {\n",
       "        vertical-align: top;\n",
       "    }\n",
       "\n",
       "    .dataframe thead tr th {\n",
       "        text-align: left;\n",
       "    }\n",
       "\n",
       "    .dataframe thead tr:last-of-type th {\n",
       "        text-align: right;\n",
       "    }\n",
       "</style>\n",
       "<table border=\"1\" class=\"dataframe\">\n",
       "  <thead>\n",
       "    <tr>\n",
       "      <th></th>\n",
       "      <th colspan=\"2\" halign=\"left\">min_diff</th>\n",
       "    </tr>\n",
       "    <tr>\n",
       "      <th></th>\n",
       "      <th>count</th>\n",
       "      <th>mean</th>\n",
       "    </tr>\n",
       "    <tr>\n",
       "      <th>period_day</th>\n",
       "      <th></th>\n",
       "      <th></th>\n",
       "    </tr>\n",
       "  </thead>\n",
       "  <tbody>\n",
       "    <tr>\n",
       "      <th>afternoon</th>\n",
       "      <td>25506</td>\n",
       "      <td>354.37254</td>\n",
       "    </tr>\n",
       "    <tr>\n",
       "      <th>morning</th>\n",
       "      <td>25352</td>\n",
       "      <td>391.91764</td>\n",
       "    </tr>\n",
       "    <tr>\n",
       "      <th>night</th>\n",
       "      <td>17348</td>\n",
       "      <td>428.71184</td>\n",
       "    </tr>\n",
       "  </tbody>\n",
       "</table>\n",
       "</div>"
      ],
      "text/plain": [
       "           min_diff           \n",
       "              count       mean\n",
       "period_day                    \n",
       "afternoon     25506  354.37254\n",
       "morning       25352  391.91764\n",
       "night         17348  428.71184"
      ]
     },
     "execution_count": 54,
     "metadata": {},
     "output_type": "execute_result"
    }
   ],
   "source": [
    "# Group by the period of the day and calculate the number of flights \n",
    "# and the mean delay in minutes\n",
    "\n",
    "delays_by_period_day = flights2[['period_day', 'min_diff']].groupby(\n",
    "    'period_day').agg(['count', 'mean'])\n",
    "delays_by_period_day"
   ]
  },
  {
   "attachments": {},
   "cell_type": "markdown",
   "metadata": {},
   "source": [
    "There is some difference between average delays in minutes for morning, afternoon and night. \n",
    "\n",
    "**Conclusions:**\n",
    "\n",
    "It seems that the magnitude of delay depends on the destination airport and the airline. However, these columns have many categories (64 and 30 respectively), and for some airports and airlines there is a very small number of records. \n",
    "\n",
    "Also, I would expect that the scheduled month, period of day and day of week of the flight would have influence in predicting delays. Probably the season and flight type could help for a better prediction too.\n",
    "\n",
    "It is good to try training a model with most of these variables and see the feature importances."
   ]
  },
  {
   "attachments": {},
   "cell_type": "markdown",
   "metadata": {},
   "source": [
    "## 4. Task 4\n",
    "\n",
    "Train one or several models (using the algorithm(s) of your choice) to estimate the likelihood of a flight delay.\n",
    "Feel free to generate additional variables and/or supplement with external variables."
   ]
  },
  {
   "attachments": {},
   "cell_type": "markdown",
   "metadata": {},
   "source": [
    "### 4.1 Prepare a final DataFrame with features and a target"
   ]
  },
  {
   "cell_type": "code",
   "execution_count": 55,
   "metadata": {},
   "outputs": [
    {
     "data": {
      "text/html": [
       "<div>\n",
       "<style scoped>\n",
       "    .dataframe tbody tr th:only-of-type {\n",
       "        vertical-align: middle;\n",
       "    }\n",
       "\n",
       "    .dataframe tbody tr th {\n",
       "        vertical-align: top;\n",
       "    }\n",
       "\n",
       "    .dataframe thead th {\n",
       "        text-align: right;\n",
       "    }\n",
       "</style>\n",
       "<table border=\"1\" class=\"dataframe\">\n",
       "  <thead>\n",
       "    <tr style=\"text-align: right;\">\n",
       "      <th></th>\n",
       "      <th>Fecha-I</th>\n",
       "      <th>Emp-I</th>\n",
       "      <th>TIPOVUELO</th>\n",
       "      <th>high_season</th>\n",
       "      <th>period_day</th>\n",
       "      <th>delay_15</th>\n",
       "      <th>min_diff</th>\n",
       "    </tr>\n",
       "  </thead>\n",
       "  <tbody>\n",
       "    <tr>\n",
       "      <th>0</th>\n",
       "      <td>2017-01-01 23:30:00</td>\n",
       "      <td>AAL</td>\n",
       "      <td>I</td>\n",
       "      <td>1</td>\n",
       "      <td>night</td>\n",
       "      <td>0</td>\n",
       "      <td>3.0</td>\n",
       "    </tr>\n",
       "    <tr>\n",
       "      <th>1</th>\n",
       "      <td>2017-01-02 23:30:00</td>\n",
       "      <td>AAL</td>\n",
       "      <td>I</td>\n",
       "      <td>1</td>\n",
       "      <td>night</td>\n",
       "      <td>0</td>\n",
       "      <td>9.0</td>\n",
       "    </tr>\n",
       "    <tr>\n",
       "      <th>2</th>\n",
       "      <td>2017-01-03 23:30:00</td>\n",
       "      <td>AAL</td>\n",
       "      <td>I</td>\n",
       "      <td>1</td>\n",
       "      <td>night</td>\n",
       "      <td>0</td>\n",
       "      <td>9.0</td>\n",
       "    </tr>\n",
       "  </tbody>\n",
       "</table>\n",
       "</div>"
      ],
      "text/plain": [
       "              Fecha-I Emp-I TIPOVUELO  high_season period_day  delay_15  \\\n",
       "0 2017-01-01 23:30:00   AAL         I            1      night         0   \n",
       "1 2017-01-02 23:30:00   AAL         I            1      night         0   \n",
       "2 2017-01-03 23:30:00   AAL         I            1      night         0   \n",
       "\n",
       "   min_diff  \n",
       "0       3.0  \n",
       "1       9.0  \n",
       "2       9.0  "
      ]
     },
     "execution_count": 55,
     "metadata": {},
     "output_type": "execute_result"
    }
   ],
   "source": [
    "# Create a copy of flights2 with selected columns\n",
    "\n",
    "selected_columns = ['Fecha-I', 'Emp-I', 'TIPOVUELO', \n",
    "                    'high_season', 'period_day', 'delay_15', \n",
    "                    'min_diff']\n",
    "\n",
    "flights3 = flights2[selected_columns].copy()\n",
    "flights3.head(3)"
   ]
  },
  {
   "cell_type": "code",
   "execution_count": 56,
   "metadata": {},
   "outputs": [
    {
     "data": {
      "text/html": [
       "<div>\n",
       "<style scoped>\n",
       "    .dataframe tbody tr th:only-of-type {\n",
       "        vertical-align: middle;\n",
       "    }\n",
       "\n",
       "    .dataframe tbody tr th {\n",
       "        vertical-align: top;\n",
       "    }\n",
       "\n",
       "    .dataframe thead th {\n",
       "        text-align: right;\n",
       "    }\n",
       "</style>\n",
       "<table border=\"1\" class=\"dataframe\">\n",
       "  <thead>\n",
       "    <tr style=\"text-align: right;\">\n",
       "      <th></th>\n",
       "      <th>Fecha-I</th>\n",
       "      <th>Emp-I</th>\n",
       "      <th>TIPOVUELO</th>\n",
       "      <th>high_season</th>\n",
       "      <th>period_day</th>\n",
       "      <th>delay_15</th>\n",
       "      <th>min_diff</th>\n",
       "      <th>month</th>\n",
       "      <th>weekday</th>\n",
       "    </tr>\n",
       "  </thead>\n",
       "  <tbody>\n",
       "    <tr>\n",
       "      <th>0</th>\n",
       "      <td>2017-01-01 23:30:00</td>\n",
       "      <td>AAL</td>\n",
       "      <td>I</td>\n",
       "      <td>1</td>\n",
       "      <td>night</td>\n",
       "      <td>0</td>\n",
       "      <td>3.0</td>\n",
       "      <td>1</td>\n",
       "      <td>6</td>\n",
       "    </tr>\n",
       "    <tr>\n",
       "      <th>1</th>\n",
       "      <td>2017-01-02 23:30:00</td>\n",
       "      <td>AAL</td>\n",
       "      <td>I</td>\n",
       "      <td>1</td>\n",
       "      <td>night</td>\n",
       "      <td>0</td>\n",
       "      <td>9.0</td>\n",
       "      <td>1</td>\n",
       "      <td>0</td>\n",
       "    </tr>\n",
       "    <tr>\n",
       "      <th>2</th>\n",
       "      <td>2017-01-03 23:30:00</td>\n",
       "      <td>AAL</td>\n",
       "      <td>I</td>\n",
       "      <td>1</td>\n",
       "      <td>night</td>\n",
       "      <td>0</td>\n",
       "      <td>9.0</td>\n",
       "      <td>1</td>\n",
       "      <td>1</td>\n",
       "    </tr>\n",
       "  </tbody>\n",
       "</table>\n",
       "</div>"
      ],
      "text/plain": [
       "              Fecha-I Emp-I TIPOVUELO  high_season period_day  delay_15  \\\n",
       "0 2017-01-01 23:30:00   AAL         I            1      night         0   \n",
       "1 2017-01-02 23:30:00   AAL         I            1      night         0   \n",
       "2 2017-01-03 23:30:00   AAL         I            1      night         0   \n",
       "\n",
       "   min_diff  month  weekday  \n",
       "0       3.0      1        6  \n",
       "1       9.0      1        0  \n",
       "2       9.0      1        1  "
      ]
     },
     "execution_count": 56,
     "metadata": {},
     "output_type": "execute_result"
    }
   ],
   "source": [
    "# Create new columns from the scheduled date: \n",
    "\n",
    "# Scheduled month of the flight\n",
    "flights3['month'] = flights3['Fecha-I'].dt.month\n",
    "\n",
    "# Scheduled day of week (Monday is 0)\n",
    "flights3['weekday'] = flights3['Fecha-I'].dt.weekday\n",
    "\n",
    "flights3.head(3)"
   ]
  },
  {
   "attachments": {},
   "cell_type": "markdown",
   "metadata": {},
   "source": [
    "Group the airlines into 3 categories and create a column with airline rank based on the average delay value:\n",
    "- 'low' - average delay < 300 min,\n",
    "- 'middle' - average delay between 300 min and 600 min,\n",
    "- 'high' - average delay > 600 min"
   ]
  },
  {
   "cell_type": "code",
   "execution_count": 57,
   "metadata": {},
   "outputs": [
    {
     "data": {
      "text/html": [
       "<div>\n",
       "<style scoped>\n",
       "    .dataframe tbody tr th:only-of-type {\n",
       "        vertical-align: middle;\n",
       "    }\n",
       "\n",
       "    .dataframe tbody tr th {\n",
       "        vertical-align: top;\n",
       "    }\n",
       "\n",
       "    .dataframe thead th {\n",
       "        text-align: right;\n",
       "    }\n",
       "</style>\n",
       "<table border=\"1\" class=\"dataframe\">\n",
       "  <thead>\n",
       "    <tr style=\"text-align: right;\">\n",
       "      <th></th>\n",
       "      <th>min_diff</th>\n",
       "    </tr>\n",
       "    <tr>\n",
       "      <th>Emp-I</th>\n",
       "      <th></th>\n",
       "    </tr>\n",
       "  </thead>\n",
       "  <tbody>\n",
       "    <tr>\n",
       "      <th>AAL</th>\n",
       "      <td>930.475561</td>\n",
       "    </tr>\n",
       "    <tr>\n",
       "      <th>ACA</th>\n",
       "      <td>285.423009</td>\n",
       "    </tr>\n",
       "    <tr>\n",
       "      <th>AFR</th>\n",
       "      <td>773.689944</td>\n",
       "    </tr>\n",
       "    <tr>\n",
       "      <th>AMX</th>\n",
       "      <td>1027.247863</td>\n",
       "    </tr>\n",
       "    <tr>\n",
       "      <th>ARG</th>\n",
       "      <td>535.320164</td>\n",
       "    </tr>\n",
       "  </tbody>\n",
       "</table>\n",
       "</div>"
      ],
      "text/plain": [
       "          min_diff\n",
       "Emp-I             \n",
       "AAL     930.475561\n",
       "ACA     285.423009\n",
       "AFR     773.689944\n",
       "AMX    1027.247863\n",
       "ARG     535.320164"
      ]
     },
     "execution_count": 57,
     "metadata": {},
     "output_type": "execute_result"
    }
   ],
   "source": [
    "avg_delays_by_airline = flights3[['Emp-I', 'min_diff']].groupby('Emp-I').mean()\n",
    "avg_delays_by_airline.head()"
   ]
  },
  {
   "cell_type": "code",
   "execution_count": 58,
   "metadata": {},
   "outputs": [],
   "source": [
    "def rank_airline(delay_min):\n",
    "    \"\"\"Rank the airline based on its average delay in minutes.\"\"\"\n",
    "    if delay_min < 300:\n",
    "        return 'low'\n",
    "    elif delay_min > 600:\n",
    "        return 'high'\n",
    "    else:\n",
    "        return 'middle'"
   ]
  },
  {
   "cell_type": "code",
   "execution_count": 59,
   "metadata": {},
   "outputs": [
    {
     "data": {
      "text/html": [
       "<div>\n",
       "<style scoped>\n",
       "    .dataframe tbody tr th:only-of-type {\n",
       "        vertical-align: middle;\n",
       "    }\n",
       "\n",
       "    .dataframe tbody tr th {\n",
       "        vertical-align: top;\n",
       "    }\n",
       "\n",
       "    .dataframe thead th {\n",
       "        text-align: right;\n",
       "    }\n",
       "</style>\n",
       "<table border=\"1\" class=\"dataframe\">\n",
       "  <thead>\n",
       "    <tr style=\"text-align: right;\">\n",
       "      <th></th>\n",
       "      <th>min_diff</th>\n",
       "      <th>airline_rank</th>\n",
       "    </tr>\n",
       "    <tr>\n",
       "      <th>Emp-I</th>\n",
       "      <th></th>\n",
       "      <th></th>\n",
       "    </tr>\n",
       "  </thead>\n",
       "  <tbody>\n",
       "    <tr>\n",
       "      <th>AAL</th>\n",
       "      <td>930.475561</td>\n",
       "      <td>high</td>\n",
       "    </tr>\n",
       "    <tr>\n",
       "      <th>ACA</th>\n",
       "      <td>285.423009</td>\n",
       "      <td>low</td>\n",
       "    </tr>\n",
       "    <tr>\n",
       "      <th>AFR</th>\n",
       "      <td>773.689944</td>\n",
       "      <td>high</td>\n",
       "    </tr>\n",
       "    <tr>\n",
       "      <th>AMX</th>\n",
       "      <td>1027.247863</td>\n",
       "      <td>high</td>\n",
       "    </tr>\n",
       "    <tr>\n",
       "      <th>ARG</th>\n",
       "      <td>535.320164</td>\n",
       "      <td>middle</td>\n",
       "    </tr>\n",
       "  </tbody>\n",
       "</table>\n",
       "</div>"
      ],
      "text/plain": [
       "          min_diff airline_rank\n",
       "Emp-I                          \n",
       "AAL     930.475561         high\n",
       "ACA     285.423009          low\n",
       "AFR     773.689944         high\n",
       "AMX    1027.247863         high\n",
       "ARG     535.320164       middle"
      ]
     },
     "execution_count": 59,
     "metadata": {},
     "output_type": "execute_result"
    }
   ],
   "source": [
    "avg_delays_by_airline['airline_rank'] = avg_delays_by_airline['min_diff'].map(rank_airline)\n",
    "avg_delays_by_airline.head()"
   ]
  },
  {
   "cell_type": "code",
   "execution_count": 60,
   "metadata": {},
   "outputs": [
    {
     "data": {
      "text/html": [
       "<div>\n",
       "<style scoped>\n",
       "    .dataframe tbody tr th:only-of-type {\n",
       "        vertical-align: middle;\n",
       "    }\n",
       "\n",
       "    .dataframe tbody tr th {\n",
       "        vertical-align: top;\n",
       "    }\n",
       "\n",
       "    .dataframe thead th {\n",
       "        text-align: right;\n",
       "    }\n",
       "</style>\n",
       "<table border=\"1\" class=\"dataframe\">\n",
       "  <thead>\n",
       "    <tr style=\"text-align: right;\">\n",
       "      <th></th>\n",
       "      <th>TIPOVUELO</th>\n",
       "      <th>high_season</th>\n",
       "      <th>period_day</th>\n",
       "      <th>delay_15</th>\n",
       "      <th>month</th>\n",
       "      <th>weekday</th>\n",
       "      <th>airline_rank</th>\n",
       "    </tr>\n",
       "  </thead>\n",
       "  <tbody>\n",
       "    <tr>\n",
       "      <th>0</th>\n",
       "      <td>I</td>\n",
       "      <td>1</td>\n",
       "      <td>night</td>\n",
       "      <td>0</td>\n",
       "      <td>1</td>\n",
       "      <td>6</td>\n",
       "      <td>high</td>\n",
       "    </tr>\n",
       "    <tr>\n",
       "      <th>1</th>\n",
       "      <td>I</td>\n",
       "      <td>1</td>\n",
       "      <td>night</td>\n",
       "      <td>0</td>\n",
       "      <td>1</td>\n",
       "      <td>0</td>\n",
       "      <td>high</td>\n",
       "    </tr>\n",
       "    <tr>\n",
       "      <th>2</th>\n",
       "      <td>I</td>\n",
       "      <td>1</td>\n",
       "      <td>night</td>\n",
       "      <td>0</td>\n",
       "      <td>1</td>\n",
       "      <td>1</td>\n",
       "      <td>high</td>\n",
       "    </tr>\n",
       "  </tbody>\n",
       "</table>\n",
       "</div>"
      ],
      "text/plain": [
       "  TIPOVUELO  high_season period_day  delay_15  month  weekday airline_rank\n",
       "0         I            1      night         0      1        6         high\n",
       "1         I            1      night         0      1        0         high\n",
       "2         I            1      night         0      1        1         high"
      ]
     },
     "execution_count": 60,
     "metadata": {},
     "output_type": "execute_result"
    }
   ],
   "source": [
    "# Add column with airline rank\n",
    "\n",
    "flights4 = pd.merge(flights3, avg_delays_by_airline['airline_rank'], \n",
    "                    on='Emp-I', \n",
    "                    how='left')\n",
    "\n",
    "flights4.drop(['Fecha-I', 'Emp-I', 'min_diff'], axis=1, inplace=True)\n",
    "flights4.head(3)"
   ]
  },
  {
   "cell_type": "code",
   "execution_count": 61,
   "metadata": {},
   "outputs": [
    {
     "name": "stdout",
     "output_type": "stream",
     "text": [
      "<class 'pandas.core.frame.DataFrame'>\n",
      "Int64Index: 68206 entries, 0 to 68205\n",
      "Data columns (total 7 columns):\n",
      " #   Column        Non-Null Count  Dtype \n",
      "---  ------        --------------  ----- \n",
      " 0   TIPOVUELO     68206 non-null  object\n",
      " 1   high_season   68206 non-null  int64 \n",
      " 2   period_day    68206 non-null  object\n",
      " 3   delay_15      68206 non-null  int64 \n",
      " 4   month         68206 non-null  int64 \n",
      " 5   weekday       68206 non-null  int64 \n",
      " 6   airline_rank  68206 non-null  object\n",
      "dtypes: int64(4), object(3)\n",
      "memory usage: 4.2+ MB\n"
     ]
    }
   ],
   "source": [
    "flights4.info()"
   ]
  },
  {
   "attachments": {},
   "cell_type": "markdown",
   "metadata": {},
   "source": [
    "### 4.2 Split the data into the training and test sets"
   ]
  },
  {
   "cell_type": "code",
   "execution_count": 62,
   "metadata": {},
   "outputs": [],
   "source": [
    "# Split features and target\n",
    "X = flights4.drop(columns='delay_15')\n",
    "y = flights4['delay_15'].copy()\n",
    "\n",
    "# Split the data and keep the proportions of delay_15 classes\n",
    "X_train, X_test, y_train, y_test = train_test_split(X, y, test_size=0.2, \n",
    "                                                    random_state=42, stratify=y)"
   ]
  },
  {
   "cell_type": "code",
   "execution_count": 63,
   "metadata": {},
   "outputs": [
    {
     "name": "stdout",
     "output_type": "stream",
     "text": [
      "(54564, 6)\n",
      "(54564,)\n",
      "(13642, 6)\n",
      "(13642,)\n"
     ]
    }
   ],
   "source": [
    "print(X_train.shape)\n",
    "print(y_train.shape)\n",
    "\n",
    "print(X_test.shape)\n",
    "print(y_test.shape)"
   ]
  },
  {
   "attachments": {},
   "cell_type": "markdown",
   "metadata": {},
   "source": [
    "### 4.3 Train different models\n",
    "\n",
    "Try a few pipelines which include one-hot encoding of categorical features and then a classification model. The second pipeline includes the dimensionality reduction/feature selection step in-between."
   ]
  },
  {
   "cell_type": "code",
   "execution_count": 64,
   "metadata": {},
   "outputs": [
    {
     "data": {
      "text/plain": [
       "['TIPOVUELO', 'high_season', 'period_day', 'month', 'weekday', 'airline_rank']"
      ]
     },
     "execution_count": 64,
     "metadata": {},
     "output_type": "execute_result"
    }
   ],
   "source": [
    "# All final features are categorical\n",
    "# Create a list of categorical features\n",
    "\n",
    "cat_features = list(X.columns)\n",
    "cat_features"
   ]
  },
  {
   "attachments": {},
   "cell_type": "markdown",
   "metadata": {},
   "source": [
    "#### Pipeline 1: Preprocessing (one-hot encoding), Logistic Regression"
   ]
  },
  {
   "cell_type": "code",
   "execution_count": 65,
   "metadata": {},
   "outputs": [
    {
     "data": {
      "text/html": [
       "<style>#sk-0d944de1-8967-4264-b917-4cda362cc604 {color: black;background-color: white;}#sk-0d944de1-8967-4264-b917-4cda362cc604 pre{padding: 0;}#sk-0d944de1-8967-4264-b917-4cda362cc604 div.sk-toggleable {background-color: white;}#sk-0d944de1-8967-4264-b917-4cda362cc604 label.sk-toggleable__label {cursor: pointer;display: block;width: 100%;margin-bottom: 0;padding: 0.3em;box-sizing: border-box;text-align: center;}#sk-0d944de1-8967-4264-b917-4cda362cc604 div.sk-toggleable__content {max-height: 0;max-width: 0;overflow: hidden;text-align: left;background-color: #f0f8ff;}#sk-0d944de1-8967-4264-b917-4cda362cc604 div.sk-toggleable__content pre {margin: 0.2em;color: black;border-radius: 0.25em;background-color: #f0f8ff;}#sk-0d944de1-8967-4264-b917-4cda362cc604 input.sk-toggleable__control:checked~div.sk-toggleable__content {max-height: 200px;max-width: 100%;overflow: auto;}#sk-0d944de1-8967-4264-b917-4cda362cc604 div.sk-estimator input.sk-toggleable__control:checked~label.sk-toggleable__label {background-color: #d4ebff;}#sk-0d944de1-8967-4264-b917-4cda362cc604 div.sk-label input.sk-toggleable__control:checked~label.sk-toggleable__label {background-color: #d4ebff;}#sk-0d944de1-8967-4264-b917-4cda362cc604 input.sk-hidden--visually {border: 0;clip: rect(1px 1px 1px 1px);clip: rect(1px, 1px, 1px, 1px);height: 1px;margin: -1px;overflow: hidden;padding: 0;position: absolute;width: 1px;}#sk-0d944de1-8967-4264-b917-4cda362cc604 div.sk-estimator {font-family: monospace;background-color: #f0f8ff;border: 1px dotted black;border-radius: 0.25em;box-sizing: border-box;margin-bottom: 0.5em;}#sk-0d944de1-8967-4264-b917-4cda362cc604 div.sk-estimator:hover {background-color: #d4ebff;}#sk-0d944de1-8967-4264-b917-4cda362cc604 div.sk-parallel-item::after {content: \"\";width: 100%;border-bottom: 1px solid gray;flex-grow: 1;}#sk-0d944de1-8967-4264-b917-4cda362cc604 div.sk-label:hover label.sk-toggleable__label {background-color: #d4ebff;}#sk-0d944de1-8967-4264-b917-4cda362cc604 div.sk-serial::before {content: \"\";position: absolute;border-left: 1px solid gray;box-sizing: border-box;top: 2em;bottom: 0;left: 50%;}#sk-0d944de1-8967-4264-b917-4cda362cc604 div.sk-serial {display: flex;flex-direction: column;align-items: center;background-color: white;padding-right: 0.2em;padding-left: 0.2em;}#sk-0d944de1-8967-4264-b917-4cda362cc604 div.sk-item {z-index: 1;}#sk-0d944de1-8967-4264-b917-4cda362cc604 div.sk-parallel {display: flex;align-items: stretch;justify-content: center;background-color: white;}#sk-0d944de1-8967-4264-b917-4cda362cc604 div.sk-parallel::before {content: \"\";position: absolute;border-left: 1px solid gray;box-sizing: border-box;top: 2em;bottom: 0;left: 50%;}#sk-0d944de1-8967-4264-b917-4cda362cc604 div.sk-parallel-item {display: flex;flex-direction: column;position: relative;background-color: white;}#sk-0d944de1-8967-4264-b917-4cda362cc604 div.sk-parallel-item:first-child::after {align-self: flex-end;width: 50%;}#sk-0d944de1-8967-4264-b917-4cda362cc604 div.sk-parallel-item:last-child::after {align-self: flex-start;width: 50%;}#sk-0d944de1-8967-4264-b917-4cda362cc604 div.sk-parallel-item:only-child::after {width: 0;}#sk-0d944de1-8967-4264-b917-4cda362cc604 div.sk-dashed-wrapped {border: 1px dashed gray;margin: 0 0.4em 0.5em 0.4em;box-sizing: border-box;padding-bottom: 0.4em;background-color: white;position: relative;}#sk-0d944de1-8967-4264-b917-4cda362cc604 div.sk-label label {font-family: monospace;font-weight: bold;background-color: white;display: inline-block;line-height: 1.2em;}#sk-0d944de1-8967-4264-b917-4cda362cc604 div.sk-label-container {position: relative;z-index: 2;text-align: center;}#sk-0d944de1-8967-4264-b917-4cda362cc604 div.sk-container {display: inline-block;position: relative;}</style><div id=\"sk-0d944de1-8967-4264-b917-4cda362cc604\" class\"sk-top-container\"><div class=\"sk-container\"><div class=\"sk-item sk-dashed-wrapped\"><div class=\"sk-label-container\"><div class=\"sk-label sk-toggleable\"><input class=\"sk-toggleable__control sk-hidden--visually\" id=\"bd9bca31-95f6-41b3-881b-b7d475395292\" type=\"checkbox\" ><label class=\"sk-toggleable__label\" for=\"bd9bca31-95f6-41b3-881b-b7d475395292\">Pipeline</label><div class=\"sk-toggleable__content\"><pre>Pipeline(steps=[('preprocessing',\n",
       "                 ColumnTransformer(transformers=[('categorical',\n",
       "                                                  Pipeline(steps=[('one_hot_encode',\n",
       "                                                                   OneHotEncoder(sparse=False))]),\n",
       "                                                  ['TIPOVUELO', 'high_season',\n",
       "                                                   'period_day', 'month',\n",
       "                                                   'weekday',\n",
       "                                                   'airline_rank'])])),\n",
       "                ('model', LogisticRegression())])</pre></div></div></div><div class=\"sk-serial\"><div class=\"sk-item sk-dashed-wrapped\"><div class=\"sk-label-container\"><div class=\"sk-label sk-toggleable\"><input class=\"sk-toggleable__control sk-hidden--visually\" id=\"1e760bec-2d15-4b9c-8fb6-64a07b7e50f4\" type=\"checkbox\" ><label class=\"sk-toggleable__label\" for=\"1e760bec-2d15-4b9c-8fb6-64a07b7e50f4\">preprocessing: ColumnTransformer</label><div class=\"sk-toggleable__content\"><pre>ColumnTransformer(transformers=[('categorical',\n",
       "                                 Pipeline(steps=[('one_hot_encode',\n",
       "                                                  OneHotEncoder(sparse=False))]),\n",
       "                                 ['TIPOVUELO', 'high_season', 'period_day',\n",
       "                                  'month', 'weekday', 'airline_rank'])])</pre></div></div></div><div class=\"sk-parallel\"><div class=\"sk-parallel-item\"><div class=\"sk-item\"><div class=\"sk-label-container\"><div class=\"sk-label sk-toggleable\"><input class=\"sk-toggleable__control sk-hidden--visually\" id=\"48f9c80a-ee83-44eb-a854-cb668bc54b9a\" type=\"checkbox\" ><label class=\"sk-toggleable__label\" for=\"48f9c80a-ee83-44eb-a854-cb668bc54b9a\">categorical</label><div class=\"sk-toggleable__content\"><pre>['TIPOVUELO', 'high_season', 'period_day', 'month', 'weekday', 'airline_rank']</pre></div></div></div><div class=\"sk-serial\"><div class=\"sk-item\"><div class=\"sk-serial\"><div class=\"sk-item\"><div class=\"sk-estimator sk-toggleable\"><input class=\"sk-toggleable__control sk-hidden--visually\" id=\"e360d9eb-01d9-4dd9-bcde-d3f341b93580\" type=\"checkbox\" ><label class=\"sk-toggleable__label\" for=\"e360d9eb-01d9-4dd9-bcde-d3f341b93580\">OneHotEncoder</label><div class=\"sk-toggleable__content\"><pre>OneHotEncoder(sparse=False)</pre></div></div></div></div></div></div></div></div></div></div><div class=\"sk-item\"><div class=\"sk-estimator sk-toggleable\"><input class=\"sk-toggleable__control sk-hidden--visually\" id=\"0e212fe5-a094-4a69-a56d-572d3f05658c\" type=\"checkbox\" ><label class=\"sk-toggleable__label\" for=\"0e212fe5-a094-4a69-a56d-572d3f05658c\">LogisticRegression</label><div class=\"sk-toggleable__content\"><pre>LogisticRegression()</pre></div></div></div></div></div></div></div>"
      ],
      "text/plain": [
       "Pipeline(steps=[('preprocessing',\n",
       "                 ColumnTransformer(transformers=[('categorical',\n",
       "                                                  Pipeline(steps=[('one_hot_encode',\n",
       "                                                                   OneHotEncoder(sparse=False))]),\n",
       "                                                  ['TIPOVUELO', 'high_season',\n",
       "                                                   'period_day', 'month',\n",
       "                                                   'weekday',\n",
       "                                                   'airline_rank'])])),\n",
       "                ('model', LogisticRegression())])"
      ]
     },
     "execution_count": 65,
     "metadata": {},
     "output_type": "execute_result"
    }
   ],
   "source": [
    "categorical_transform = Pipeline([('one_hot_encode', OneHotEncoder(sparse=False))])\n",
    "\n",
    "preprocessing_flights = ColumnTransformer([('categorical', categorical_transform, cat_features)])\n",
    "\n",
    "pipeline_1 = Pipeline([('preprocessing', preprocessing_flights), \n",
    "                       ('model', LogisticRegression())])\n",
    "\n",
    "pipeline_1.fit(X_train, y_train)"
   ]
  },
  {
   "attachments": {},
   "cell_type": "markdown",
   "metadata": {},
   "source": [
    "#### Pipeline 2: Preprocessing (one-hot encoding), feature union (PCA and SelectKBest), Logistic Regression"
   ]
  },
  {
   "cell_type": "code",
   "execution_count": 66,
   "metadata": {},
   "outputs": [
    {
     "data": {
      "text/html": [
       "<style>#sk-34688fd8-d1dd-498e-8794-87064d5afa5d {color: black;background-color: white;}#sk-34688fd8-d1dd-498e-8794-87064d5afa5d pre{padding: 0;}#sk-34688fd8-d1dd-498e-8794-87064d5afa5d div.sk-toggleable {background-color: white;}#sk-34688fd8-d1dd-498e-8794-87064d5afa5d label.sk-toggleable__label {cursor: pointer;display: block;width: 100%;margin-bottom: 0;padding: 0.3em;box-sizing: border-box;text-align: center;}#sk-34688fd8-d1dd-498e-8794-87064d5afa5d div.sk-toggleable__content {max-height: 0;max-width: 0;overflow: hidden;text-align: left;background-color: #f0f8ff;}#sk-34688fd8-d1dd-498e-8794-87064d5afa5d div.sk-toggleable__content pre {margin: 0.2em;color: black;border-radius: 0.25em;background-color: #f0f8ff;}#sk-34688fd8-d1dd-498e-8794-87064d5afa5d input.sk-toggleable__control:checked~div.sk-toggleable__content {max-height: 200px;max-width: 100%;overflow: auto;}#sk-34688fd8-d1dd-498e-8794-87064d5afa5d div.sk-estimator input.sk-toggleable__control:checked~label.sk-toggleable__label {background-color: #d4ebff;}#sk-34688fd8-d1dd-498e-8794-87064d5afa5d div.sk-label input.sk-toggleable__control:checked~label.sk-toggleable__label {background-color: #d4ebff;}#sk-34688fd8-d1dd-498e-8794-87064d5afa5d input.sk-hidden--visually {border: 0;clip: rect(1px 1px 1px 1px);clip: rect(1px, 1px, 1px, 1px);height: 1px;margin: -1px;overflow: hidden;padding: 0;position: absolute;width: 1px;}#sk-34688fd8-d1dd-498e-8794-87064d5afa5d div.sk-estimator {font-family: monospace;background-color: #f0f8ff;border: 1px dotted black;border-radius: 0.25em;box-sizing: border-box;margin-bottom: 0.5em;}#sk-34688fd8-d1dd-498e-8794-87064d5afa5d div.sk-estimator:hover {background-color: #d4ebff;}#sk-34688fd8-d1dd-498e-8794-87064d5afa5d div.sk-parallel-item::after {content: \"\";width: 100%;border-bottom: 1px solid gray;flex-grow: 1;}#sk-34688fd8-d1dd-498e-8794-87064d5afa5d div.sk-label:hover label.sk-toggleable__label {background-color: #d4ebff;}#sk-34688fd8-d1dd-498e-8794-87064d5afa5d div.sk-serial::before {content: \"\";position: absolute;border-left: 1px solid gray;box-sizing: border-box;top: 2em;bottom: 0;left: 50%;}#sk-34688fd8-d1dd-498e-8794-87064d5afa5d div.sk-serial {display: flex;flex-direction: column;align-items: center;background-color: white;padding-right: 0.2em;padding-left: 0.2em;}#sk-34688fd8-d1dd-498e-8794-87064d5afa5d div.sk-item {z-index: 1;}#sk-34688fd8-d1dd-498e-8794-87064d5afa5d div.sk-parallel {display: flex;align-items: stretch;justify-content: center;background-color: white;}#sk-34688fd8-d1dd-498e-8794-87064d5afa5d div.sk-parallel::before {content: \"\";position: absolute;border-left: 1px solid gray;box-sizing: border-box;top: 2em;bottom: 0;left: 50%;}#sk-34688fd8-d1dd-498e-8794-87064d5afa5d div.sk-parallel-item {display: flex;flex-direction: column;position: relative;background-color: white;}#sk-34688fd8-d1dd-498e-8794-87064d5afa5d div.sk-parallel-item:first-child::after {align-self: flex-end;width: 50%;}#sk-34688fd8-d1dd-498e-8794-87064d5afa5d div.sk-parallel-item:last-child::after {align-self: flex-start;width: 50%;}#sk-34688fd8-d1dd-498e-8794-87064d5afa5d div.sk-parallel-item:only-child::after {width: 0;}#sk-34688fd8-d1dd-498e-8794-87064d5afa5d div.sk-dashed-wrapped {border: 1px dashed gray;margin: 0 0.4em 0.5em 0.4em;box-sizing: border-box;padding-bottom: 0.4em;background-color: white;position: relative;}#sk-34688fd8-d1dd-498e-8794-87064d5afa5d div.sk-label label {font-family: monospace;font-weight: bold;background-color: white;display: inline-block;line-height: 1.2em;}#sk-34688fd8-d1dd-498e-8794-87064d5afa5d div.sk-label-container {position: relative;z-index: 2;text-align: center;}#sk-34688fd8-d1dd-498e-8794-87064d5afa5d div.sk-container {display: inline-block;position: relative;}</style><div id=\"sk-34688fd8-d1dd-498e-8794-87064d5afa5d\" class\"sk-top-container\"><div class=\"sk-container\"><div class=\"sk-item sk-dashed-wrapped\"><div class=\"sk-label-container\"><div class=\"sk-label sk-toggleable\"><input class=\"sk-toggleable__control sk-hidden--visually\" id=\"4909a70c-dc40-421b-8698-00d3e8ca0c35\" type=\"checkbox\" ><label class=\"sk-toggleable__label\" for=\"4909a70c-dc40-421b-8698-00d3e8ca0c35\">Pipeline</label><div class=\"sk-toggleable__content\"><pre>Pipeline(steps=[('preprocessing',\n",
       "                 ColumnTransformer(transformers=[('categorical',\n",
       "                                                  Pipeline(steps=[('one_hot_encode',\n",
       "                                                                   OneHotEncoder(sparse=False))]),\n",
       "                                                  ['TIPOVUELO', 'high_season',\n",
       "                                                   'period_day', 'month',\n",
       "                                                   'weekday',\n",
       "                                                   'airline_rank'])])),\n",
       "                ('features',\n",
       "                 FeatureUnion(transformer_list=[('pca', PCA(n_components=3)),\n",
       "                                                ('select_best',\n",
       "                                                 SelectKBest(k=5))])),\n",
       "                ('model', LogisticRegression())])</pre></div></div></div><div class=\"sk-serial\"><div class=\"sk-item sk-dashed-wrapped\"><div class=\"sk-label-container\"><div class=\"sk-label sk-toggleable\"><input class=\"sk-toggleable__control sk-hidden--visually\" id=\"7bdd0625-4e93-4e45-b825-0dceb0e62b1c\" type=\"checkbox\" ><label class=\"sk-toggleable__label\" for=\"7bdd0625-4e93-4e45-b825-0dceb0e62b1c\">preprocessing: ColumnTransformer</label><div class=\"sk-toggleable__content\"><pre>ColumnTransformer(transformers=[('categorical',\n",
       "                                 Pipeline(steps=[('one_hot_encode',\n",
       "                                                  OneHotEncoder(sparse=False))]),\n",
       "                                 ['TIPOVUELO', 'high_season', 'period_day',\n",
       "                                  'month', 'weekday', 'airline_rank'])])</pre></div></div></div><div class=\"sk-parallel\"><div class=\"sk-parallel-item\"><div class=\"sk-item\"><div class=\"sk-label-container\"><div class=\"sk-label sk-toggleable\"><input class=\"sk-toggleable__control sk-hidden--visually\" id=\"dd059616-321a-4b6a-aa31-da2aac292ebb\" type=\"checkbox\" ><label class=\"sk-toggleable__label\" for=\"dd059616-321a-4b6a-aa31-da2aac292ebb\">categorical</label><div class=\"sk-toggleable__content\"><pre>['TIPOVUELO', 'high_season', 'period_day', 'month', 'weekday', 'airline_rank']</pre></div></div></div><div class=\"sk-serial\"><div class=\"sk-item\"><div class=\"sk-serial\"><div class=\"sk-item\"><div class=\"sk-estimator sk-toggleable\"><input class=\"sk-toggleable__control sk-hidden--visually\" id=\"437dd98b-04af-4789-a396-6563df19ea8d\" type=\"checkbox\" ><label class=\"sk-toggleable__label\" for=\"437dd98b-04af-4789-a396-6563df19ea8d\">OneHotEncoder</label><div class=\"sk-toggleable__content\"><pre>OneHotEncoder(sparse=False)</pre></div></div></div></div></div></div></div></div></div></div><div class=\"sk-item sk-dashed-wrapped\"><div class=\"sk-label-container\"><div class=\"sk-label sk-toggleable\"><input class=\"sk-toggleable__control sk-hidden--visually\" id=\"a407feb1-ee58-4448-949f-355ad6b39233\" type=\"checkbox\" ><label class=\"sk-toggleable__label\" for=\"a407feb1-ee58-4448-949f-355ad6b39233\">features: FeatureUnion</label><div class=\"sk-toggleable__content\"><pre>FeatureUnion(transformer_list=[('pca', PCA(n_components=3)),\n",
       "                               ('select_best', SelectKBest(k=5))])</pre></div></div></div><div class=\"sk-parallel\"><div class=\"sk-parallel-item\"><div class=\"sk-item\"><div class=\"sk-label-container\"><div class=\"sk-label sk-toggleable\"><label>pca</label></div></div><div class=\"sk-serial\"><div class=\"sk-item\"><div class=\"sk-estimator sk-toggleable\"><input class=\"sk-toggleable__control sk-hidden--visually\" id=\"347cdfc1-1bc0-41c9-bc1f-a3d1ab35b07e\" type=\"checkbox\" ><label class=\"sk-toggleable__label\" for=\"347cdfc1-1bc0-41c9-bc1f-a3d1ab35b07e\">PCA</label><div class=\"sk-toggleable__content\"><pre>PCA(n_components=3)</pre></div></div></div></div></div></div><div class=\"sk-parallel-item\"><div class=\"sk-item\"><div class=\"sk-label-container\"><div class=\"sk-label sk-toggleable\"><label>select_best</label></div></div><div class=\"sk-serial\"><div class=\"sk-item\"><div class=\"sk-estimator sk-toggleable\"><input class=\"sk-toggleable__control sk-hidden--visually\" id=\"27c3c926-73ea-4bbd-b176-201f0f1fbd5c\" type=\"checkbox\" ><label class=\"sk-toggleable__label\" for=\"27c3c926-73ea-4bbd-b176-201f0f1fbd5c\">SelectKBest</label><div class=\"sk-toggleable__content\"><pre>SelectKBest(k=5)</pre></div></div></div></div></div></div></div></div><div class=\"sk-item\"><div class=\"sk-estimator sk-toggleable\"><input class=\"sk-toggleable__control sk-hidden--visually\" id=\"84824684-2179-49d7-aeec-68e6e59ce198\" type=\"checkbox\" ><label class=\"sk-toggleable__label\" for=\"84824684-2179-49d7-aeec-68e6e59ce198\">LogisticRegression</label><div class=\"sk-toggleable__content\"><pre>LogisticRegression()</pre></div></div></div></div></div></div></div>"
      ],
      "text/plain": [
       "Pipeline(steps=[('preprocessing',\n",
       "                 ColumnTransformer(transformers=[('categorical',\n",
       "                                                  Pipeline(steps=[('one_hot_encode',\n",
       "                                                                   OneHotEncoder(sparse=False))]),\n",
       "                                                  ['TIPOVUELO', 'high_season',\n",
       "                                                   'period_day', 'month',\n",
       "                                                   'weekday',\n",
       "                                                   'airline_rank'])])),\n",
       "                ('features',\n",
       "                 FeatureUnion(transformer_list=[('pca', PCA(n_components=3)),\n",
       "                                                ('select_best',\n",
       "                                                 SelectKBest(k=5))])),\n",
       "                ('model', LogisticRegression())])"
      ]
     },
     "execution_count": 66,
     "metadata": {},
     "output_type": "execute_result"
    }
   ],
   "source": [
    "categorical_transform = Pipeline([('one_hot_encode', OneHotEncoder(sparse=False))])\n",
    "\n",
    "preprocessing_flights = ColumnTransformer([('categorical', categorical_transform, cat_features)])\n",
    "\n",
    "feature_union = FeatureUnion([('pca', PCA(n_components=3)), \n",
    "                              ('select_best', SelectKBest(k=5))])\n",
    "\n",
    "pipeline_2 = Pipeline([('preprocessing', preprocessing_flights), \n",
    "                       ('features', feature_union),\n",
    "                       ('model', LogisticRegression())])\n",
    "\n",
    "pipeline_2.fit(X_train, y_train)"
   ]
  },
  {
   "attachments": {},
   "cell_type": "markdown",
   "metadata": {},
   "source": [
    "### Pipeline 3 (Grid Search): Preprocessing (one-hot encoding), Random Forest Classifier"
   ]
  },
  {
   "cell_type": "code",
   "execution_count": 67,
   "metadata": {},
   "outputs": [
    {
     "name": "stdout",
     "output_type": "stream",
     "text": [
      "Fitting 5 folds for each of 6 candidates, totalling 30 fits\n"
     ]
    },
    {
     "data": {
      "text/html": [
       "<style>#sk-122174e1-33eb-40dd-9019-6bb30372646a {color: black;background-color: white;}#sk-122174e1-33eb-40dd-9019-6bb30372646a pre{padding: 0;}#sk-122174e1-33eb-40dd-9019-6bb30372646a div.sk-toggleable {background-color: white;}#sk-122174e1-33eb-40dd-9019-6bb30372646a label.sk-toggleable__label {cursor: pointer;display: block;width: 100%;margin-bottom: 0;padding: 0.3em;box-sizing: border-box;text-align: center;}#sk-122174e1-33eb-40dd-9019-6bb30372646a div.sk-toggleable__content {max-height: 0;max-width: 0;overflow: hidden;text-align: left;background-color: #f0f8ff;}#sk-122174e1-33eb-40dd-9019-6bb30372646a div.sk-toggleable__content pre {margin: 0.2em;color: black;border-radius: 0.25em;background-color: #f0f8ff;}#sk-122174e1-33eb-40dd-9019-6bb30372646a input.sk-toggleable__control:checked~div.sk-toggleable__content {max-height: 200px;max-width: 100%;overflow: auto;}#sk-122174e1-33eb-40dd-9019-6bb30372646a div.sk-estimator input.sk-toggleable__control:checked~label.sk-toggleable__label {background-color: #d4ebff;}#sk-122174e1-33eb-40dd-9019-6bb30372646a div.sk-label input.sk-toggleable__control:checked~label.sk-toggleable__label {background-color: #d4ebff;}#sk-122174e1-33eb-40dd-9019-6bb30372646a input.sk-hidden--visually {border: 0;clip: rect(1px 1px 1px 1px);clip: rect(1px, 1px, 1px, 1px);height: 1px;margin: -1px;overflow: hidden;padding: 0;position: absolute;width: 1px;}#sk-122174e1-33eb-40dd-9019-6bb30372646a div.sk-estimator {font-family: monospace;background-color: #f0f8ff;border: 1px dotted black;border-radius: 0.25em;box-sizing: border-box;margin-bottom: 0.5em;}#sk-122174e1-33eb-40dd-9019-6bb30372646a div.sk-estimator:hover {background-color: #d4ebff;}#sk-122174e1-33eb-40dd-9019-6bb30372646a div.sk-parallel-item::after {content: \"\";width: 100%;border-bottom: 1px solid gray;flex-grow: 1;}#sk-122174e1-33eb-40dd-9019-6bb30372646a div.sk-label:hover label.sk-toggleable__label {background-color: #d4ebff;}#sk-122174e1-33eb-40dd-9019-6bb30372646a div.sk-serial::before {content: \"\";position: absolute;border-left: 1px solid gray;box-sizing: border-box;top: 2em;bottom: 0;left: 50%;}#sk-122174e1-33eb-40dd-9019-6bb30372646a div.sk-serial {display: flex;flex-direction: column;align-items: center;background-color: white;padding-right: 0.2em;padding-left: 0.2em;}#sk-122174e1-33eb-40dd-9019-6bb30372646a div.sk-item {z-index: 1;}#sk-122174e1-33eb-40dd-9019-6bb30372646a div.sk-parallel {display: flex;align-items: stretch;justify-content: center;background-color: white;}#sk-122174e1-33eb-40dd-9019-6bb30372646a div.sk-parallel::before {content: \"\";position: absolute;border-left: 1px solid gray;box-sizing: border-box;top: 2em;bottom: 0;left: 50%;}#sk-122174e1-33eb-40dd-9019-6bb30372646a div.sk-parallel-item {display: flex;flex-direction: column;position: relative;background-color: white;}#sk-122174e1-33eb-40dd-9019-6bb30372646a div.sk-parallel-item:first-child::after {align-self: flex-end;width: 50%;}#sk-122174e1-33eb-40dd-9019-6bb30372646a div.sk-parallel-item:last-child::after {align-self: flex-start;width: 50%;}#sk-122174e1-33eb-40dd-9019-6bb30372646a div.sk-parallel-item:only-child::after {width: 0;}#sk-122174e1-33eb-40dd-9019-6bb30372646a div.sk-dashed-wrapped {border: 1px dashed gray;margin: 0 0.4em 0.5em 0.4em;box-sizing: border-box;padding-bottom: 0.4em;background-color: white;position: relative;}#sk-122174e1-33eb-40dd-9019-6bb30372646a div.sk-label label {font-family: monospace;font-weight: bold;background-color: white;display: inline-block;line-height: 1.2em;}#sk-122174e1-33eb-40dd-9019-6bb30372646a div.sk-label-container {position: relative;z-index: 2;text-align: center;}#sk-122174e1-33eb-40dd-9019-6bb30372646a div.sk-container {display: inline-block;position: relative;}</style><div id=\"sk-122174e1-33eb-40dd-9019-6bb30372646a\" class\"sk-top-container\"><div class=\"sk-container\"><div class=\"sk-item sk-dashed-wrapped\"><div class=\"sk-label-container\"><div class=\"sk-label sk-toggleable\"><input class=\"sk-toggleable__control sk-hidden--visually\" id=\"4192400e-479d-42d6-acfa-377257e5bb2a\" type=\"checkbox\" ><label class=\"sk-toggleable__label\" for=\"4192400e-479d-42d6-acfa-377257e5bb2a\">GridSearchCV</label><div class=\"sk-toggleable__content\"><pre>GridSearchCV(estimator=Pipeline(steps=[('preprocessing',\n",
       "                                        ColumnTransformer(transformers=[('categorical',\n",
       "                                                                         Pipeline(steps=[('one_hot_encode',\n",
       "                                                                                          OneHotEncoder(sparse=False))]),\n",
       "                                                                         ['TIPOVUELO',\n",
       "                                                                          'high_season',\n",
       "                                                                          'period_day',\n",
       "                                                                          'month',\n",
       "                                                                          'weekday',\n",
       "                                                                          'airline_rank'])])),\n",
       "                                       ('rf_classifier',\n",
       "                                        RandomForestClassifier())]),\n",
       "             n_jobs=-1,\n",
       "             param_grid={'rf_classifier__max_depth': [3, 5],\n",
       "                         'rf_classifier__n_estimators': [2, 5, 10]},\n",
       "             verbose=10)</pre></div></div></div><div class=\"sk-parallel\"><div class=\"sk-parallel-item\"><div class=\"sk-item\"><div class=\"sk-serial\"><div class=\"sk-item\"><div class=\"sk-serial\"><div class=\"sk-item sk-dashed-wrapped\"><div class=\"sk-label-container\"><div class=\"sk-label sk-toggleable\"><input class=\"sk-toggleable__control sk-hidden--visually\" id=\"8b86f014-b5b7-4742-8938-f47d64315d10\" type=\"checkbox\" ><label class=\"sk-toggleable__label\" for=\"8b86f014-b5b7-4742-8938-f47d64315d10\">preprocessing: ColumnTransformer</label><div class=\"sk-toggleable__content\"><pre>ColumnTransformer(transformers=[('categorical',\n",
       "                                 Pipeline(steps=[('one_hot_encode',\n",
       "                                                  OneHotEncoder(sparse=False))]),\n",
       "                                 ['TIPOVUELO', 'high_season', 'period_day',\n",
       "                                  'month', 'weekday', 'airline_rank'])])</pre></div></div></div><div class=\"sk-parallel\"><div class=\"sk-parallel-item\"><div class=\"sk-item\"><div class=\"sk-label-container\"><div class=\"sk-label sk-toggleable\"><input class=\"sk-toggleable__control sk-hidden--visually\" id=\"adde770c-bb64-4d2e-b5cf-62ef9404bdcc\" type=\"checkbox\" ><label class=\"sk-toggleable__label\" for=\"adde770c-bb64-4d2e-b5cf-62ef9404bdcc\">categorical</label><div class=\"sk-toggleable__content\"><pre>['TIPOVUELO', 'high_season', 'period_day', 'month', 'weekday', 'airline_rank']</pre></div></div></div><div class=\"sk-serial\"><div class=\"sk-item\"><div class=\"sk-serial\"><div class=\"sk-item\"><div class=\"sk-estimator sk-toggleable\"><input class=\"sk-toggleable__control sk-hidden--visually\" id=\"31df23e1-bcfb-4366-8075-cb764f754ef1\" type=\"checkbox\" ><label class=\"sk-toggleable__label\" for=\"31df23e1-bcfb-4366-8075-cb764f754ef1\">OneHotEncoder</label><div class=\"sk-toggleable__content\"><pre>OneHotEncoder(sparse=False)</pre></div></div></div></div></div></div></div></div></div></div><div class=\"sk-item\"><div class=\"sk-estimator sk-toggleable\"><input class=\"sk-toggleable__control sk-hidden--visually\" id=\"effd104a-62ec-4ace-9d29-16cdd66677c0\" type=\"checkbox\" ><label class=\"sk-toggleable__label\" for=\"effd104a-62ec-4ace-9d29-16cdd66677c0\">RandomForestClassifier</label><div class=\"sk-toggleable__content\"><pre>RandomForestClassifier()</pre></div></div></div></div></div></div></div></div></div></div></div></div>"
      ],
      "text/plain": [
       "GridSearchCV(estimator=Pipeline(steps=[('preprocessing',\n",
       "                                        ColumnTransformer(transformers=[('categorical',\n",
       "                                                                         Pipeline(steps=[('one_hot_encode',\n",
       "                                                                                          OneHotEncoder(sparse=False))]),\n",
       "                                                                         ['TIPOVUELO',\n",
       "                                                                          'high_season',\n",
       "                                                                          'period_day',\n",
       "                                                                          'month',\n",
       "                                                                          'weekday',\n",
       "                                                                          'airline_rank'])])),\n",
       "                                       ('rf_classifier',\n",
       "                                        RandomForestClassifier())]),\n",
       "             n_jobs=-1,\n",
       "             param_grid={'rf_classifier__max_depth': [3, 5],\n",
       "                         'rf_classifier__n_estimators': [2, 5, 10]},\n",
       "             verbose=10)"
      ]
     },
     "execution_count": 67,
     "metadata": {},
     "output_type": "execute_result"
    }
   ],
   "source": [
    "categorical_transform = Pipeline([('one_hot_encode', OneHotEncoder(sparse=False))])\n",
    "\n",
    "preprocessing_flights = ColumnTransformer([('categorical', categorical_transform, cat_features)])\n",
    "\n",
    "pipeline_3 = Pipeline([('preprocessing', preprocessing_flights), \n",
    "                       ('rf_classifier', RandomForestClassifier())])\n",
    "\n",
    "# Set up the parameter grid\n",
    "param_grid = {\"rf_classifier__n_estimators\":[2, 5, 10], \n",
    "              \"rf_classifier__max_depth\":[3, 5]}\n",
    "\n",
    "# Create a Grid Search object\n",
    "grid_search = GridSearchCV(pipeline_3, param_grid, n_jobs = -1, verbose=10, refit=True)    \n",
    "\n",
    "# Fit the model and tune parameters\n",
    "grid_search.fit(X_train, y_train)"
   ]
  },
  {
   "cell_type": "code",
   "execution_count": 68,
   "metadata": {},
   "outputs": [
    {
     "name": "stdout",
     "output_type": "stream",
     "text": [
      "{'rf_classifier__max_depth': 5, 'rf_classifier__n_estimators': 2}\n"
     ]
    }
   ],
   "source": [
    "print(grid_search.best_params_)"
   ]
  },
  {
   "attachments": {},
   "cell_type": "markdown",
   "metadata": {},
   "source": [
    "## 5. Task 5\n",
    "\n",
    "Evaluate model performance in the predictive task across each model that you trained. Define and justify what metrics you used to assess model performance. Pick the best trained model and evaluate the following: What variables were the most influential in the prediction task? How could you improve the Performance?"
   ]
  },
  {
   "attachments": {},
   "cell_type": "markdown",
   "metadata": {},
   "source": [
    "### Model evaluation\n",
    "\n",
    "To evaluate model performance I used the accuracy as the basic metric and calculated it for both training and test sets to assess overfitting. Also, I looked at the confusion matrix for the test set and checked whether the number of false negatives is decreasing. Other possible metrics are recall (I assume it is important to predict as many actual positives as possible and reduce false negatives) and ROC AUC score."
   ]
  },
  {
   "attachments": {},
   "cell_type": "markdown",
   "metadata": {},
   "source": [
    "#### Pipeline 1: Preprocessing (one-hot encoding), Logistic Regression"
   ]
  },
  {
   "cell_type": "code",
   "execution_count": 69,
   "metadata": {},
   "outputs": [
    {
     "name": "stdout",
     "output_type": "stream",
     "text": [
      "Training set accuracy: 0.5969686973095815\n"
     ]
    }
   ],
   "source": [
    "acc_train_1 = pipeline_1.score(X_train, y_train)\n",
    "print(f'Training set accuracy: {acc_train_1}')"
   ]
  },
  {
   "cell_type": "code",
   "execution_count": 70,
   "metadata": {},
   "outputs": [
    {
     "name": "stdout",
     "output_type": "stream",
     "text": [
      "Test set accuracy: 0.6031373698871133\n"
     ]
    }
   ],
   "source": [
    "acc_test_1 = pipeline_1.score(X_test, y_test)\n",
    "print(f'Test set accuracy: {acc_test_1}')"
   ]
  },
  {
   "cell_type": "code",
   "execution_count": 71,
   "metadata": {},
   "outputs": [
    {
     "data": {
      "image/png": "[encoded data removed]",
      "text/plain": [
       "<Figure size 432x288 with 2 Axes>"
      ]
     },
     "metadata": {},
     "output_type": "display_data"
    }
   ],
   "source": [
    "sns.set_style(\"white\")\n",
    "\n",
    "y_pred_1 = pipeline_1.predict(X_test)\n",
    "cm_1 = confusion_matrix(y_test, y_pred_1, labels=pipeline_1.classes_)\n",
    "disp_1 = ConfusionMatrixDisplay(confusion_matrix=cm_1, display_labels=pipeline_1.classes_)\n",
    "disp_1.plot()\n",
    "plt.show()"
   ]
  },
  {
   "attachments": {},
   "cell_type": "markdown",
   "metadata": {},
   "source": [
    "#### Pipeline 2: Preprocessing (one-hot encoding), feature union (PCA and SelectKBest), Logistic Regression"
   ]
  },
  {
   "cell_type": "code",
   "execution_count": 72,
   "metadata": {},
   "outputs": [
    {
     "name": "stdout",
     "output_type": "stream",
     "text": [
      "Training set accuracy: 0.5978667253133935\n"
     ]
    }
   ],
   "source": [
    "acc_train_2 = pipeline_2.score(X_train, y_train)\n",
    "print(f'Training set accuracy: {acc_train_2}')"
   ]
  },
  {
   "cell_type": "code",
   "execution_count": 73,
   "metadata": {},
   "outputs": [
    {
     "name": "stdout",
     "output_type": "stream",
     "text": [
      "Test set accuracy: 0.6088550065972731\n"
     ]
    }
   ],
   "source": [
    "acc_test_2 = pipeline_2.score(X_test, y_test)\n",
    "print(f'Test set accuracy: {acc_test_2}')"
   ]
  },
  {
   "cell_type": "code",
   "execution_count": 74,
   "metadata": {},
   "outputs": [
    {
     "data": {
      "image/png": "[encoded data removed]",
      "text/plain": [
       "<Figure size 432x288 with 2 Axes>"
      ]
     },
     "metadata": {},
     "output_type": "display_data"
    }
   ],
   "source": [
    "y_pred_2 = pipeline_2.predict(X_test)\n",
    "cm_2 = confusion_matrix(y_test, y_pred_2, labels=pipeline_2.classes_)\n",
    "disp_2 = ConfusionMatrixDisplay(confusion_matrix=cm_2, display_labels=pipeline_2.classes_)\n",
    "disp_2.plot()\n",
    "plt.show()"
   ]
  },
  {
   "attachments": {},
   "cell_type": "markdown",
   "metadata": {},
   "source": [
    "### Pipeline 3 (Grid Search): Preprocessing (one-hot encoding), Random Forest Classifier"
   ]
  },
  {
   "cell_type": "code",
   "execution_count": 75,
   "metadata": {},
   "outputs": [
    {
     "name": "stdout",
     "output_type": "stream",
     "text": [
      "Training set accuracy: 0.5934315666006891\n"
     ]
    }
   ],
   "source": [
    "acc_train_3 = grid_search.score(X_train, y_train)\n",
    "print(f'Training set accuracy: {acc_train_3}')"
   ]
  },
  {
   "cell_type": "code",
   "execution_count": 76,
   "metadata": {},
   "outputs": [
    {
     "name": "stdout",
     "output_type": "stream",
     "text": [
      "Test set accuracy: 0.6009382788447442\n"
     ]
    }
   ],
   "source": [
    "acc_test_3 = grid_search.score(X_test, y_test)\n",
    "print(f'Test set accuracy: {acc_test_3}')"
   ]
  },
  {
   "cell_type": "code",
   "execution_count": 77,
   "metadata": {},
   "outputs": [
    {
     "data": {
      "image/png": "[encoded data removed]",
      "text/plain": [
       "<Figure size 432x288 with 2 Axes>"
      ]
     },
     "metadata": {},
     "output_type": "display_data"
    }
   ],
   "source": [
    "y_pred_3 = grid_search.predict(X_test)\n",
    "cm_3 = confusion_matrix(y_test, y_pred_3, labels=grid_search.classes_)\n",
    "disp_3 = ConfusionMatrixDisplay(confusion_matrix=cm_3, display_labels=grid_search.classes_)\n",
    "disp_3.plot()\n",
    "plt.show()"
   ]
  },
  {
   "attachments": {},
   "cell_type": "markdown",
   "metadata": {},
   "source": [
    "The models showed very similar performance. The pipeline 2 demonstrated the best test accuracy of 60.9% and it had the smallest number of false negatives. \n",
    "\n",
    "As one of the ways to find feature importances, a Random Forest model can be trained on one-hot encoded features. Unfortunately, the pipelines do not allow to extract feature importances.\n",
    "\n",
    "To improve the performance, probably more feature engineering and selection can be done, other models can be trained and finetuned. For example, distance between origin and destination can be added as a feature. Also, adding more data could possibly help. "
   ]
  }
 ],
 "metadata": {
  "kernelspec": {
   "display_name": "Python 3.8.12 ('bootcamp_env')",
   "language": "python",
   "name": "python3"
  },
  "language_info": {
   "codemirror_mode": {
    "name": "ipython",
    "version": 3
   },
   "file_extension": ".py",
   "mimetype": "text/x-python",
   "name": "python",
   "nbconvert_exporter": "python",
   "pygments_lexer": "ipython3",
   "version": "3.8.12"
  },
  "orig_nbformat": 4,
  "vscode": {
   "interpreter": {
    "hash": "2fc694a5cd48ab82e715b95524466c3d407e7ec01431c71119824d3916601101"
   }
  }
 },
 "nbformat": 4,
 "nbformat_minor": 2
}
